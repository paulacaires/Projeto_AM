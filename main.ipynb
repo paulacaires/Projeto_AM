{
 "cells": [
  {
   "cell_type": "markdown",
   "metadata": {},
   "source": [
    "# <center> <img src=\"figs/LogoUFSCar.jpg\" alt=\"Logo UFScar\" width=\"110\" align=\"left\"/>  <br/> <center>Universidade Federal de São Carlos (UFSCar)<br/><font size=\"4\"> Departamento de Computação, campus Sorocaba</center></font>\n",
    "</p>\n",
    "\n",
    "<font size=\"4\"><center><b>Disciplina: Aprendizado de Máquina</b></center></font>\n",
    "  \n",
    "<font size=\"3\"><center>Prof. Dr. Tiago A. Almeida</center></font>\n",
    "\n",
    "## <center>Projeto Final</center>\n",
    "\n",
    "**Nome**: Paula Caires Silva\n",
    "\n",
    "**RA**: 792230\n"
   ]
  },
  {
   "cell_type": "markdown",
   "metadata": {},
   "source": [
    "---\n",
    "## Análise exploratória\n",
    "\n",
    "Nesta seção, deve ser feita a leitura da base de dados e todas as análises necessárias para interpretar e analisar os dados, tais como:\n",
    "* Significado de cada atributo\n",
    "* Medidas descritivas\n",
    "* Gráficos"
   ]
  },
  {
   "cell_type": "code",
   "execution_count": 1,
   "metadata": {},
   "outputs": [
    {
     "data": {
      "text/plain": [
       "'Dimensão do dataframe com as informações:'"
      ]
     },
     "metadata": {},
     "output_type": "display_data"
    },
    {
     "data": {
      "text/plain": [
       "17873"
      ]
     },
     "metadata": {},
     "output_type": "display_data"
    },
    {
     "data": {
      "text/plain": [
       "'Dimensão do vetor de classes:'"
      ]
     },
     "metadata": {},
     "output_type": "display_data"
    },
    {
     "data": {
      "text/plain": [
       "14727"
      ]
     },
     "metadata": {},
     "output_type": "display_data"
    },
    {
     "name": "stdout",
     "output_type": "stream",
     "text": [
      "Dados carregados com sucesso!\n"
     ]
    }
   ],
   "source": [
    "# Caminho dos arquivos\n",
    "FILES_DIRECTORY = \"dados\"\n",
    "\n",
    "import numpy as np\n",
    "import pandas as pd \n",
    "import os\n",
    "\n",
    "# Importa o arquivo e guarda em um dataframe do Pandas\n",
    "df = pd.read_csv( os.path.join(FILES_DIRECTORY, 'RHP_data.csv'), sep=',', index_col=None)\n",
    "\n",
    "# Importa o arquivo de classes e guarda em um dataframe do Pandas\n",
    "df_classe = pd.read_csv( os.path.join(FILES_DIRECTORY, 'train.csv'), sep=',', index_col=None)\n",
    "\n",
    "display('Dimensão do dataframe com as informações:', df.shape[0])\n",
    "display('Dimensão do vetor de classes:', df_classe.shape[0])\n",
    "\n",
    "print('Dados carregados com sucesso!')"
   ]
  },
  {
   "cell_type": "markdown",
   "metadata": {},
   "source": [
    "---\n",
    "## Análise Exploratória de Dados (EDA)\n",
    "\n",
    "Primeiro, utilizando-se dos recursos da estatística descritiva, será feita a caracterização dos dados para conhecer a distribuição deles e características em busca de padrões ou tendências, bem como quais são os problemas que serão endereçados na etapa de pré-processamento dos dados, como a presença de outliers. Conhecer essas informações permite uma modelagem e tratamento de dados alinhada com a natureza deles.\n",
    "\n",
    "Depois, fazer a escala dos dados, para justificar a retirada dos atributos de data de nascimento e data de atendimento, já que seria racional.\n",
    "\n",
    "### Análise de dados numéricos\n",
    "\n",
    "Primeiro, será analisada e tratada a idade, pois a partir dela será tratado os outros atributos."
   ]
  },
  {
   "cell_type": "code",
   "execution_count": 2,
   "metadata": {},
   "outputs": [
    {
     "name": "stdout",
     "output_type": "stream",
     "text": [
      "Existem 3 tipos de categorias diferentes para a coluna CLASSE.\n",
      "\n",
      "Categorias da coluna CLASSE e a quantidade: \n",
      "\n",
      "CLASSE\n",
      "normal      8138\n",
      "anormal     5421\n",
      "sem info    1168\n",
      "Name: count, dtype: int64\n",
      "\n",
      "A coluna 'CLASSE' possui 0 valores nulos (0.00%).\n",
      "\n"
     ]
    }
   ],
   "source": [
    "# Análise das classes\n",
    "from scripts.analise_exploratoria import analise_descritiva_categorica\n",
    "\n",
    "df_classe = pd.read_csv( os.path.join(FILES_DIRECTORY, 'train.csv'), sep=',', index_col=None)\n",
    "\n",
    "# Converter tudo para letra minúscula\n",
    "df_classe['CLASSE'] = df_classe['CLASSE'].str.lower()\n",
    "\n",
    "# Substituir \"normais\" para \"normal\"\n",
    "df_classe['CLASSE'] = df_classe['CLASSE'].replace('normais', 'normal')\n",
    "\n",
    "# Substituir classes nulas para \"sem info\"\n",
    "df_classe['CLASSE'] = df_classe['CLASSE'].fillna('sem info')\n",
    "\n",
    "analise_descritiva_categorica(df_classe, 'CLASSE')"
   ]
  },
  {
   "cell_type": "markdown",
   "metadata": {},
   "source": [
    "#### Idade\n",
    "\n",
    "A coluna IDADE não tem o tipo de dado uniformemente numérico. Dessa forma, é necessário tratar essa informação para que todos sejam numéricos, possibilitando que eles sejam tratados e analisados."
   ]
  },
  {
   "cell_type": "code",
   "execution_count": 3,
   "metadata": {},
   "outputs": [
    {
     "name": "stdout",
     "output_type": "stream",
     "text": [
      "object\n"
     ]
    }
   ],
   "source": [
    "print(df['IDADE'].dtypes)"
   ]
  },
  {
   "cell_type": "code",
   "execution_count": 4,
   "metadata": {},
   "outputs": [
    {
     "name": "stdout",
     "output_type": "stream",
     "text": [
      "A coluna 'IDADE' possui 1496 valores nulos (8.37%).\n",
      "\n",
      "A coluna 'IDADE' possui 122 valores negativos (0.68%).\n",
      "\n",
      "A coluna 'IDADE' possui 184 valores zero (1.03%).\n",
      "\n",
      "Média da coluna 'IDADE': 6.01\n",
      "\n",
      "Mediana da coluna 'IDADE': 5.64\n",
      "\n",
      "Moda da coluna 'IDADE': 0.01\n",
      "\n",
      "Desvio padrão da coluna 'IDADE': 7.83\n",
      "\n",
      "Variância da coluna 'IDADE': 61.27\n",
      "\n",
      "Quartis da coluna 'IDADE': \n",
      "0.25    2.18\n",
      "0.50    5.64\n",
      "0.75    9.97\n",
      "Name: IDADE, dtype: float64\n",
      "\n"
     ]
    },
    {
     "data": {
      "image/png": "[encoded data removed]",
      "text/plain": [
       "<Figure size 800x600 with 1 Axes>"
      ]
     },
     "metadata": {},
     "output_type": "display_data"
    },
    {
     "data": {
      "image/png": "[encoded data removed]",
      "text/plain": [
       "<Figure size 800x600 with 1 Axes>"
      ]
     },
     "metadata": {},
     "output_type": "display_data"
    }
   ],
   "source": [
    "df['IDADE'] = pd.to_numeric(df['IDADE'], errors='coerce')\n",
    "\n",
    "from scripts.analise_exploratoria import analise_descritiva\n",
    "analise_descritiva(df, 'IDADE')\n",
    "\n",
    "from scripts.analise_exploratoria import visualizacao\n",
    "visualizacao(df, 'IDADE')"
   ]
  },
  {
   "cell_type": "markdown",
   "metadata": {},
   "source": [
    "De acordo com o boxplot e com o histograma, é possível ver uma concentração de idades que estão próximas dos -100 anos. Para o tratamento desses dados, será considerada a mesma idade, só que acrescida de 100 anos e positiva.\n",
    "\n",
    "Para o tratamento dos valores negativos, será feita apenas a inversão, considerando que houve um equívoco na hora de registrar a data de nascimento (DN) e a data de atendimento."
   ]
  },
  {
   "cell_type": "code",
   "execution_count": 5,
   "metadata": {},
   "outputs": [
    {
     "name": "stdout",
     "output_type": "stream",
     "text": [
      "A coluna 'IDADE' possui 48 valores menores do que -90 (0.27%).\n",
      "\n",
      "A coluna 'IDADE' possui 1496 valores nulos (8.37%).\n",
      "\n",
      "A coluna 'IDADE' possui 0 valores negativos (0.00%).\n",
      "\n",
      "A coluna 'IDADE' possui 184 valores zero (1.03%).\n",
      "\n",
      "Média da coluna 'IDADE': 6.36\n",
      "\n",
      "Mediana da coluna 'IDADE': 5.67\n",
      "\n",
      "Moda da coluna 'IDADE': 0.01\n",
      "\n",
      "Desvio padrão da coluna 'IDADE': 4.97\n",
      "\n",
      "Variância da coluna 'IDADE': 24.70\n",
      "\n",
      "Quartis da coluna 'IDADE': \n",
      "0.25     2.23\n",
      "0.50     5.67\n",
      "0.75    10.00\n",
      "Name: IDADE, dtype: float64\n",
      "\n"
     ]
    }
   ],
   "source": [
    "# Quantidade de idades menores do que -90 anos.\n",
    "qtd_idades_outliers_negativos = (df['IDADE'] < -90).sum()\n",
    "print(f\"A coluna 'IDADE' possui {qtd_idades_outliers_negativos} valores menores do que -90 ({qtd_idades_outliers_negativos/df.shape[0]*100:.2f}%).\\n\")\n",
    "\n",
    "# Para esses outliers, recalcular a idade\n",
    "mask = df['IDADE'] < -90\n",
    "df.loc[mask, 'IDADE'] = np.abs(df.loc[mask, 'IDADE'] + 100)\n",
    "\n",
    "# Tratamento para idades negativas\n",
    "mask = df['IDADE'] < 0\n",
    "df.loc[mask, 'IDADE'] = df.loc[mask, 'IDADE'].abs()\n",
    "\n",
    "analise_descritiva(df, 'IDADE')"
   ]
  },
  {
   "cell_type": "markdown",
   "metadata": {},
   "source": [
    "Agora, tratamento dos campos de idade que estão vazios. Para tratar a idade vazia, será substituída pela média de idade de todos com o mesmo diagnóstico."
   ]
  },
  {
   "cell_type": "code",
   "execution_count": 6,
   "metadata": {},
   "outputs": [],
   "source": [
    "# Preencher as idades faltantes\n",
    "from scripts.analise_exploratoria import define_valores_ausentes\n",
    "df = define_valores_ausentes(df, df_classe, 'IDADE', 'CLASSE', 'Id')"
   ]
  },
  {
   "cell_type": "code",
   "execution_count": 7,
   "metadata": {},
   "outputs": [
    {
     "name": "stdout",
     "output_type": "stream",
     "text": [
      "A coluna 'IDADE' possui 0 valores nulos (0.00%).\n",
      "\n",
      "A coluna 'IDADE' possui 0 valores negativos (0.00%).\n",
      "\n",
      "A coluna 'IDADE' possui 134 valores zero (0.91%).\n",
      "\n",
      "Média da coluna 'IDADE': 6.43\n",
      "\n",
      "Mediana da coluna 'IDADE': 6.27\n",
      "\n",
      "Moda da coluna 'IDADE': 6.95\n",
      "\n",
      "Desvio padrão da coluna 'IDADE': 4.80\n",
      "\n",
      "Variância da coluna 'IDADE': 23.04\n",
      "\n",
      "Quartis da coluna 'IDADE': \n",
      "0.25    2.64\n",
      "0.50    6.27\n",
      "0.75    9.52\n",
      "Name: IDADE, dtype: float64\n",
      "\n"
     ]
    }
   ],
   "source": [
    "analise_descritiva(df, 'IDADE')"
   ]
  },
  {
   "cell_type": "code",
   "execution_count": 8,
   "metadata": {},
   "outputs": [
    {
     "data": {
      "text/html": [
       "<div>\n",
       "<style scoped>\n",
       "    .dataframe tbody tr th:only-of-type {\n",
       "        vertical-align: middle;\n",
       "    }\n",
       "\n",
       "    .dataframe tbody tr th {\n",
       "        vertical-align: top;\n",
       "    }\n",
       "\n",
       "    .dataframe thead th {\n",
       "        text-align: right;\n",
       "    }\n",
       "</style>\n",
       "<table border=\"1\" class=\"dataframe\">\n",
       "  <thead>\n",
       "    <tr style=\"text-align: right;\">\n",
       "      <th></th>\n",
       "      <th>Id</th>\n",
       "      <th>Peso</th>\n",
       "      <th>Altura</th>\n",
       "      <th>IMC</th>\n",
       "      <th>Atendimento</th>\n",
       "      <th>DN</th>\n",
       "      <th>IDADE</th>\n",
       "      <th>Convenio</th>\n",
       "      <th>PULSOS</th>\n",
       "      <th>PA SISTOLICA</th>\n",
       "      <th>PA DIASTOLICA</th>\n",
       "      <th>PPA</th>\n",
       "      <th>B2</th>\n",
       "      <th>SOPRO</th>\n",
       "      <th>FC</th>\n",
       "      <th>HDA 1</th>\n",
       "      <th>HDA2</th>\n",
       "      <th>SEXO</th>\n",
       "      <th>MOTIVO1</th>\n",
       "      <th>MOTIVO2</th>\n",
       "    </tr>\n",
       "  </thead>\n",
       "  <tbody>\n",
       "    <tr>\n",
       "      <th>0</th>\n",
       "      <td>2</td>\n",
       "      <td>3.5</td>\n",
       "      <td>50</td>\n",
       "      <td>14.0</td>\n",
       "      <td>25/05/05</td>\n",
       "      <td>19/05/05</td>\n",
       "      <td>0.02</td>\n",
       "      <td>GS</td>\n",
       "      <td>Normais</td>\n",
       "      <td>NaN</td>\n",
       "      <td>NaN</td>\n",
       "      <td>Não Calculado</td>\n",
       "      <td>Normal</td>\n",
       "      <td>ausente</td>\n",
       "      <td>128</td>\n",
       "      <td>Dispneia</td>\n",
       "      <td>NaN</td>\n",
       "      <td>M</td>\n",
       "      <td>6 - Suspeita de cardiopatia</td>\n",
       "      <td>6 - Dispnéia</td>\n",
       "    </tr>\n",
       "    <tr>\n",
       "      <th>1</th>\n",
       "      <td>3</td>\n",
       "      <td>0.0</td>\n",
       "      <td>0</td>\n",
       "      <td>NaN</td>\n",
       "      <td>12/06/01</td>\n",
       "      <td>08/05/05</td>\n",
       "      <td>4.05</td>\n",
       "      <td>SULA</td>\n",
       "      <td>Normais</td>\n",
       "      <td>NaN</td>\n",
       "      <td>NaN</td>\n",
       "      <td>Não Calculado</td>\n",
       "      <td>Normal</td>\n",
       "      <td>Sistólico</td>\n",
       "      <td>88</td>\n",
       "      <td>Assintomático</td>\n",
       "      <td>NaN</td>\n",
       "      <td>M</td>\n",
       "      <td>2 - Check-up</td>\n",
       "      <td>NaN</td>\n",
       "    </tr>\n",
       "    <tr>\n",
       "      <th>2</th>\n",
       "      <td>4</td>\n",
       "      <td>8.1</td>\n",
       "      <td>65</td>\n",
       "      <td>19.0</td>\n",
       "      <td>15/10/09</td>\n",
       "      <td>21/04/09</td>\n",
       "      <td>0.50</td>\n",
       "      <td>NaN</td>\n",
       "      <td>Normais</td>\n",
       "      <td>NaN</td>\n",
       "      <td>NaN</td>\n",
       "      <td>Não Calculado</td>\n",
       "      <td>Normal</td>\n",
       "      <td>ausente</td>\n",
       "      <td>92</td>\n",
       "      <td>Assintomático</td>\n",
       "      <td>NaN</td>\n",
       "      <td>M</td>\n",
       "      <td>5 - Parecer cardiológico</td>\n",
       "      <td>NaN</td>\n",
       "    </tr>\n",
       "    <tr>\n",
       "      <th>3</th>\n",
       "      <td>6</td>\n",
       "      <td>26.0</td>\n",
       "      <td>112</td>\n",
       "      <td>21.0</td>\n",
       "      <td>22/08/03</td>\n",
       "      <td>26/05/99</td>\n",
       "      <td>4.40</td>\n",
       "      <td>GS</td>\n",
       "      <td>Normais</td>\n",
       "      <td>100.0</td>\n",
       "      <td>60.0</td>\n",
       "      <td>Normal</td>\n",
       "      <td>Desdob fixo</td>\n",
       "      <td>ausente</td>\n",
       "      <td>100</td>\n",
       "      <td>Assintomático</td>\n",
       "      <td>NaN</td>\n",
       "      <td>M</td>\n",
       "      <td>2 - Check-up</td>\n",
       "      <td>NaN</td>\n",
       "    </tr>\n",
       "  </tbody>\n",
       "</table>\n",
       "</div>"
      ],
      "text/plain": [
       "   Id  Peso  Altura   IMC Atendimento        DN  IDADE Convenio   PULSOS  \\\n",
       "0   2   3.5      50  14.0    25/05/05  19/05/05   0.02       GS  Normais   \n",
       "1   3   0.0       0   NaN    12/06/01  08/05/05   4.05     SULA  Normais   \n",
       "2   4   8.1      65  19.0    15/10/09  21/04/09   0.50      NaN  Normais   \n",
       "3   6  26.0     112  21.0    22/08/03  26/05/99   4.40       GS  Normais   \n",
       "\n",
       "   PA SISTOLICA  PA DIASTOLICA            PPA           B2      SOPRO   FC  \\\n",
       "0           NaN            NaN  Não Calculado       Normal    ausente  128   \n",
       "1           NaN            NaN  Não Calculado       Normal  Sistólico   88   \n",
       "2           NaN            NaN  Não Calculado       Normal    ausente   92   \n",
       "3         100.0           60.0         Normal  Desdob fixo    ausente  100   \n",
       "\n",
       "           HDA 1 HDA2 SEXO                      MOTIVO1       MOTIVO2  \n",
       "0       Dispneia  NaN    M  6 - Suspeita de cardiopatia  6 - Dispnéia  \n",
       "1  Assintomático  NaN    M                 2 - Check-up           NaN  \n",
       "2  Assintomático  NaN    M     5 - Parecer cardiológico           NaN  \n",
       "3  Assintomático  NaN    M                 2 - Check-up           NaN  "
      ]
     },
     "metadata": {},
     "output_type": "display_data"
    }
   ],
   "source": [
    "display(df.head(4))"
   ]
  },
  {
   "cell_type": "markdown",
   "metadata": {},
   "source": [
    "Agora, a coluna de idade não tem valores negativos e nem nulos, o que permite a partir de agora tratar outros atributos."
   ]
  },
  {
   "cell_type": "markdown",
   "metadata": {},
   "source": [
    "#### Análise do peso"
   ]
  },
  {
   "cell_type": "code",
   "execution_count": 9,
   "metadata": {},
   "outputs": [
    {
     "name": "stdout",
     "output_type": "stream",
     "text": [
      "A coluna 'Peso' possui 260 valores nulos (1.77%).\n",
      "\n",
      "A coluna 'Peso' possui 1 valores negativos (0.01%).\n",
      "\n",
      "A coluna 'Peso' possui 2289 valores zero (15.54%).\n",
      "\n",
      "Média da coluna 'Peso': 20.98\n",
      "\n",
      "Mediana da coluna 'Peso': 17.50\n",
      "\n",
      "Moda da coluna 'Peso': 0.00\n",
      "\n",
      "Desvio padrão da coluna 'Peso': 18.19\n",
      "\n",
      "Variância da coluna 'Peso': 330.87\n",
      "\n",
      "Quartis da coluna 'Peso': \n",
      "0.25     6.0\n",
      "0.50    17.5\n",
      "0.75    31.0\n",
      "Name: Peso, dtype: float64\n",
      "\n"
     ]
    },
    {
     "data": {
      "image/png": "[encoded data removed]",
      "text/plain": [
       "<Figure size 800x600 with 1 Axes>"
      ]
     },
     "metadata": {},
     "output_type": "display_data"
    },
    {
     "data": {
      "image/png": "[encoded data removed]",
      "text/plain": [
       "<Figure size 800x600 with 1 Axes>"
      ]
     },
     "metadata": {},
     "output_type": "display_data"
    }
   ],
   "source": [
    "from scripts.analise_exploratoria import analise_descritiva\n",
    "analise_descritiva(df, 'Peso')\n",
    "\n",
    "from scripts.analise_exploratoria import visualizacao\n",
    "visualizacao(df, 'Peso')"
   ]
  },
  {
   "cell_type": "markdown",
   "metadata": {},
   "source": [
    "No gráfico boxplot, o limite inferior da linha começa em 0, indicando que o valor mínimo, ignorando o outlier inferior, é 0. O único valor negativo pode ser interpretado como um erro na coleta do dado. Para corrigi-lo, será considerado o mesmo peso positivo."
   ]
  },
  {
   "cell_type": "code",
   "execution_count": 10,
   "metadata": {},
   "outputs": [],
   "source": [
    "df.loc[df['Peso'] < 0, 'Peso'] = df.loc[df['Peso'] < 0, 'Peso'].abs()"
   ]
  },
  {
   "cell_type": "markdown",
   "metadata": {},
   "source": [
    "Além disso, os pesos iguais a 0 são considerados inconsistentes, pois não fazem sentido no contexto dessa aplicação. O mesmo para pesos sem informação (nulos). Para endereçar esses problemas, será utilizada a tabela de peso e altura por idade dos 0 aos 18 anos para cada gênero, disponível [aqui](https://www.unimed.coop.br/viver-bem/pais-e-filhos/estatura-por-idade). Para pacientes maiores do que 18 anos, será colocado o peso médio para o gênero.\n",
    "Essa abordagem só é possível pois tratamos a coluna de idade.\n",
    "\n",
    "Além disso, como a função depende, além da idade, do gênero do paciente, então é necessário também fazer um tratamento para os casos de sexo inválido ou ausente."
   ]
  },
  {
   "cell_type": "markdown",
   "metadata": {},
   "source": [
    "#### Sexo"
   ]
  },
  {
   "cell_type": "code",
   "execution_count": 11,
   "metadata": {},
   "outputs": [
    {
     "name": "stdout",
     "output_type": "stream",
     "text": [
      "Existem 6 tipos de categorias diferentes para a coluna SEXO.\n",
      "\n",
      "Categorias da coluna SEXO e a quantidade: \n",
      "\n",
      "SEXO\n",
      "M                7253\n",
      "F                5393\n",
      "Indeterminado    1332\n",
      "Masculino         480\n",
      "Feminino          201\n",
      "masculino          65\n",
      "Name: count, dtype: int64\n",
      "\n",
      "A coluna 'SEXO' possui 3 valores nulos (0.02%).\n",
      "\n",
      "Existem 3 tipos de categorias diferentes para a coluna SEXO.\n",
      "\n",
      "Categorias da coluna SEXO e a quantidade: \n",
      "\n",
      "SEXO\n",
      "M    7798\n",
      "F    5594\n",
      "I    1335\n",
      "Name: count, dtype: int64\n",
      "\n",
      "A coluna 'SEXO' possui 0 valores nulos (0.00%).\n",
      "\n"
     ]
    }
   ],
   "source": [
    "from scripts.analise_exploratoria import analise_descritiva_categorica\n",
    "analise_descritiva_categorica(df, 'SEXO')\n",
    "\n",
    "from scripts.analise_exploratoria import normalizar_sexo\n",
    "df['SEXO'] = df['SEXO'].apply(normalizar_sexo)\n",
    "analise_descritiva_categorica(df, 'SEXO')"
   ]
  },
  {
   "cell_type": "markdown",
   "metadata": {},
   "source": [
    "O dataset tem uma quantidade considerável de sexos classificados como indeterminados (\"I\"). Após uma inspeção manual nos dados, foi possível perceber que muitas instâncias cujo sexo é indeterminado também não possuem boa parte das outras informações. Dessa maneira, as instâncias que não tiverem pelo menos 70% dos outros atributos serão removidos do dataset."
   ]
  },
  {
   "cell_type": "code",
   "execution_count": 12,
   "metadata": {},
   "outputs": [
    {
     "name": "stdout",
     "output_type": "stream",
     "text": [
      "São 1335 objetos com o sexo inválido.\n",
      "\n"
     ]
    },
    {
     "data": {
      "text/html": [
       "<div>\n",
       "<style scoped>\n",
       "    .dataframe tbody tr th:only-of-type {\n",
       "        vertical-align: middle;\n",
       "    }\n",
       "\n",
       "    .dataframe tbody tr th {\n",
       "        vertical-align: top;\n",
       "    }\n",
       "\n",
       "    .dataframe thead th {\n",
       "        text-align: right;\n",
       "    }\n",
       "</style>\n",
       "<table border=\"1\" class=\"dataframe\">\n",
       "  <thead>\n",
       "    <tr style=\"text-align: right;\">\n",
       "      <th></th>\n",
       "      <th>Id</th>\n",
       "      <th>qtd_nulos</th>\n",
       "    </tr>\n",
       "  </thead>\n",
       "  <tbody>\n",
       "    <tr>\n",
       "      <th>50</th>\n",
       "      <td>65</td>\n",
       "      <td>14</td>\n",
       "    </tr>\n",
       "    <tr>\n",
       "      <th>67</th>\n",
       "      <td>86</td>\n",
       "      <td>14</td>\n",
       "    </tr>\n",
       "    <tr>\n",
       "      <th>73</th>\n",
       "      <td>94</td>\n",
       "      <td>5</td>\n",
       "    </tr>\n",
       "    <tr>\n",
       "      <th>103</th>\n",
       "      <td>131</td>\n",
       "      <td>14</td>\n",
       "    </tr>\n",
       "    <tr>\n",
       "      <th>128</th>\n",
       "      <td>161</td>\n",
       "      <td>14</td>\n",
       "    </tr>\n",
       "    <tr>\n",
       "      <th>...</th>\n",
       "      <td>...</td>\n",
       "      <td>...</td>\n",
       "    </tr>\n",
       "    <tr>\n",
       "      <th>14680</th>\n",
       "      <td>17820</td>\n",
       "      <td>5</td>\n",
       "    </tr>\n",
       "    <tr>\n",
       "      <th>14692</th>\n",
       "      <td>17834</td>\n",
       "      <td>14</td>\n",
       "    </tr>\n",
       "    <tr>\n",
       "      <th>14698</th>\n",
       "      <td>17840</td>\n",
       "      <td>14</td>\n",
       "    </tr>\n",
       "    <tr>\n",
       "      <th>14706</th>\n",
       "      <td>17849</td>\n",
       "      <td>5</td>\n",
       "    </tr>\n",
       "    <tr>\n",
       "      <th>14712</th>\n",
       "      <td>17856</td>\n",
       "      <td>14</td>\n",
       "    </tr>\n",
       "  </tbody>\n",
       "</table>\n",
       "<p>1335 rows × 2 columns</p>\n",
       "</div>"
      ],
      "text/plain": [
       "          Id  qtd_nulos\n",
       "50        65         14\n",
       "67        86         14\n",
       "73        94          5\n",
       "103      131         14\n",
       "128      161         14\n",
       "...      ...        ...\n",
       "14680  17820          5\n",
       "14692  17834         14\n",
       "14698  17840         14\n",
       "14706  17849          5\n",
       "14712  17856         14\n",
       "\n",
       "[1335 rows x 2 columns]"
      ]
     },
     "metadata": {},
     "output_type": "display_data"
    },
    {
     "name": "stdout",
     "output_type": "stream",
     "text": [
      "Existem 20 atributos no data frame. O limite é 14 colunas nulas.\n",
      "Removendo 753 objetos com mais ou igual do que 14 colunas nulas.\n",
      "\n",
      "São 582 objetos com o sexo inválido.\n",
      "\n"
     ]
    }
   ],
   "source": [
    "from scripts.analise_exploratoria import remove_objetos_incompletos\n",
    "df = remove_objetos_incompletos(df)\n",
    "\n",
    "df_invalidos = df[df['SEXO'] == 'I']\n",
    "print(f'São {df_invalidos.shape[0]} objetos com o sexo inválido.\\n')"
   ]
  },
  {
   "cell_type": "markdown",
   "metadata": {},
   "source": [
    "Ainda sobraram 582 objetos com o sexo inválido. Todos eles serão atribuídos ao \"F\" para equilibrar (depois tratar de outra forma)."
   ]
  },
  {
   "cell_type": "code",
   "execution_count": 13,
   "metadata": {},
   "outputs": [
    {
     "data": {
      "text/html": [
       "<div>\n",
       "<style scoped>\n",
       "    .dataframe tbody tr th:only-of-type {\n",
       "        vertical-align: middle;\n",
       "    }\n",
       "\n",
       "    .dataframe tbody tr th {\n",
       "        vertical-align: top;\n",
       "    }\n",
       "\n",
       "    .dataframe thead th {\n",
       "        text-align: right;\n",
       "    }\n",
       "</style>\n",
       "<table border=\"1\" class=\"dataframe\">\n",
       "  <thead>\n",
       "    <tr style=\"text-align: right;\">\n",
       "      <th></th>\n",
       "      <th>Id</th>\n",
       "      <th>Peso</th>\n",
       "      <th>Altura</th>\n",
       "      <th>IMC</th>\n",
       "      <th>Atendimento</th>\n",
       "      <th>DN</th>\n",
       "      <th>IDADE</th>\n",
       "      <th>Convenio</th>\n",
       "      <th>PULSOS</th>\n",
       "      <th>PA SISTOLICA</th>\n",
       "      <th>PA DIASTOLICA</th>\n",
       "      <th>PPA</th>\n",
       "      <th>B2</th>\n",
       "      <th>SOPRO</th>\n",
       "      <th>FC</th>\n",
       "      <th>HDA 1</th>\n",
       "      <th>HDA2</th>\n",
       "      <th>SEXO</th>\n",
       "      <th>MOTIVO1</th>\n",
       "      <th>MOTIVO2</th>\n",
       "    </tr>\n",
       "  </thead>\n",
       "  <tbody>\n",
       "    <tr>\n",
       "      <th>0</th>\n",
       "      <td>2</td>\n",
       "      <td>3.50</td>\n",
       "      <td>50</td>\n",
       "      <td>14.0</td>\n",
       "      <td>25/05/05</td>\n",
       "      <td>19/05/05</td>\n",
       "      <td>0.02</td>\n",
       "      <td>GS</td>\n",
       "      <td>Normais</td>\n",
       "      <td>NaN</td>\n",
       "      <td>NaN</td>\n",
       "      <td>Não Calculado</td>\n",
       "      <td>Normal</td>\n",
       "      <td>ausente</td>\n",
       "      <td>128</td>\n",
       "      <td>Dispneia</td>\n",
       "      <td>NaN</td>\n",
       "      <td>M</td>\n",
       "      <td>6 - Suspeita de cardiopatia</td>\n",
       "      <td>6 - Dispnéia</td>\n",
       "    </tr>\n",
       "    <tr>\n",
       "      <th>1</th>\n",
       "      <td>3</td>\n",
       "      <td>16.51</td>\n",
       "      <td>0</td>\n",
       "      <td>NaN</td>\n",
       "      <td>12/06/01</td>\n",
       "      <td>08/05/05</td>\n",
       "      <td>4.05</td>\n",
       "      <td>SULA</td>\n",
       "      <td>Normais</td>\n",
       "      <td>NaN</td>\n",
       "      <td>NaN</td>\n",
       "      <td>Não Calculado</td>\n",
       "      <td>Normal</td>\n",
       "      <td>Sistólico</td>\n",
       "      <td>88</td>\n",
       "      <td>Assintomático</td>\n",
       "      <td>NaN</td>\n",
       "      <td>M</td>\n",
       "      <td>2 - Check-up</td>\n",
       "      <td>NaN</td>\n",
       "    </tr>\n",
       "    <tr>\n",
       "      <th>2</th>\n",
       "      <td>4</td>\n",
       "      <td>8.10</td>\n",
       "      <td>65</td>\n",
       "      <td>19.0</td>\n",
       "      <td>15/10/09</td>\n",
       "      <td>21/04/09</td>\n",
       "      <td>0.50</td>\n",
       "      <td>NaN</td>\n",
       "      <td>Normais</td>\n",
       "      <td>NaN</td>\n",
       "      <td>NaN</td>\n",
       "      <td>Não Calculado</td>\n",
       "      <td>Normal</td>\n",
       "      <td>ausente</td>\n",
       "      <td>92</td>\n",
       "      <td>Assintomático</td>\n",
       "      <td>NaN</td>\n",
       "      <td>M</td>\n",
       "      <td>5 - Parecer cardiológico</td>\n",
       "      <td>NaN</td>\n",
       "    </tr>\n",
       "    <tr>\n",
       "      <th>3</th>\n",
       "      <td>6</td>\n",
       "      <td>26.00</td>\n",
       "      <td>112</td>\n",
       "      <td>21.0</td>\n",
       "      <td>22/08/03</td>\n",
       "      <td>26/05/99</td>\n",
       "      <td>4.40</td>\n",
       "      <td>GS</td>\n",
       "      <td>Normais</td>\n",
       "      <td>100.0</td>\n",
       "      <td>60.0</td>\n",
       "      <td>Normal</td>\n",
       "      <td>Desdob fixo</td>\n",
       "      <td>ausente</td>\n",
       "      <td>100</td>\n",
       "      <td>Assintomático</td>\n",
       "      <td>NaN</td>\n",
       "      <td>M</td>\n",
       "      <td>2 - Check-up</td>\n",
       "      <td>NaN</td>\n",
       "    </tr>\n",
       "    <tr>\n",
       "      <th>4</th>\n",
       "      <td>7</td>\n",
       "      <td>40.00</td>\n",
       "      <td>151</td>\n",
       "      <td>18.0</td>\n",
       "      <td>14/01/08</td>\n",
       "      <td>14/08/95</td>\n",
       "      <td>12.89</td>\n",
       "      <td>SAME</td>\n",
       "      <td>Normais</td>\n",
       "      <td>NaN</td>\n",
       "      <td>NaN</td>\n",
       "      <td>Não Calculado</td>\n",
       "      <td>Normal</td>\n",
       "      <td>ausente</td>\n",
       "      <td>96</td>\n",
       "      <td>Dor precordial</td>\n",
       "      <td>NaN</td>\n",
       "      <td>M</td>\n",
       "      <td>5 - Parecer cardiológico</td>\n",
       "      <td>NaN</td>\n",
       "    </tr>\n",
       "    <tr>\n",
       "      <th>...</th>\n",
       "      <td>...</td>\n",
       "      <td>...</td>\n",
       "      <td>...</td>\n",
       "      <td>...</td>\n",
       "      <td>...</td>\n",
       "      <td>...</td>\n",
       "      <td>...</td>\n",
       "      <td>...</td>\n",
       "      <td>...</td>\n",
       "      <td>...</td>\n",
       "      <td>...</td>\n",
       "      <td>...</td>\n",
       "      <td>...</td>\n",
       "      <td>...</td>\n",
       "      <td>...</td>\n",
       "      <td>...</td>\n",
       "      <td>...</td>\n",
       "      <td>...</td>\n",
       "      <td>...</td>\n",
       "      <td>...</td>\n",
       "    </tr>\n",
       "    <tr>\n",
       "      <th>14722</th>\n",
       "      <td>17868</td>\n",
       "      <td>10.60</td>\n",
       "      <td>85</td>\n",
       "      <td>15.0</td>\n",
       "      <td>28/12/06</td>\n",
       "      <td>06/12/04</td>\n",
       "      <td>2.14</td>\n",
       "      <td>NaN</td>\n",
       "      <td>Normais</td>\n",
       "      <td>90.0</td>\n",
       "      <td>50.0</td>\n",
       "      <td>Não Calculado</td>\n",
       "      <td>Normal</td>\n",
       "      <td>ausente</td>\n",
       "      <td>100</td>\n",
       "      <td>Assintomático</td>\n",
       "      <td>NaN</td>\n",
       "      <td>M</td>\n",
       "      <td>5 - Parecer cardiológico</td>\n",
       "      <td>5 - Cirurgia</td>\n",
       "    </tr>\n",
       "    <tr>\n",
       "      <th>14723</th>\n",
       "      <td>17869</td>\n",
       "      <td>9.50</td>\n",
       "      <td>76</td>\n",
       "      <td>16.0</td>\n",
       "      <td>03/02/06</td>\n",
       "      <td>06/12/04</td>\n",
       "      <td>1.20</td>\n",
       "      <td>NaN</td>\n",
       "      <td>Normais</td>\n",
       "      <td>NaN</td>\n",
       "      <td>NaN</td>\n",
       "      <td>Não Calculado</td>\n",
       "      <td>Normal</td>\n",
       "      <td>ausente</td>\n",
       "      <td>92</td>\n",
       "      <td>Assintomático</td>\n",
       "      <td>NaN</td>\n",
       "      <td>M</td>\n",
       "      <td>5 - Parecer cardiológico</td>\n",
       "      <td>5 - Cirurgia</td>\n",
       "    </tr>\n",
       "    <tr>\n",
       "      <th>14724</th>\n",
       "      <td>17871</td>\n",
       "      <td>65.00</td>\n",
       "      <td>175</td>\n",
       "      <td>21.0</td>\n",
       "      <td>03/08/07</td>\n",
       "      <td>16/02/84</td>\n",
       "      <td>24.34</td>\n",
       "      <td>Medial</td>\n",
       "      <td>Normais</td>\n",
       "      <td>126.0</td>\n",
       "      <td>80.0</td>\n",
       "      <td>Não Calculado</td>\n",
       "      <td>Normal</td>\n",
       "      <td>ausente</td>\n",
       "      <td>76</td>\n",
       "      <td>Dor precordial</td>\n",
       "      <td>NaN</td>\n",
       "      <td>F</td>\n",
       "      <td>1 - Cardiopatia já estabelecida</td>\n",
       "      <td>1 - Cardiopatia congenica</td>\n",
       "    </tr>\n",
       "    <tr>\n",
       "      <th>14725</th>\n",
       "      <td>17872</td>\n",
       "      <td>27.00</td>\n",
       "      <td>134</td>\n",
       "      <td>15.0</td>\n",
       "      <td>04/10/04</td>\n",
       "      <td>03/12/27</td>\n",
       "      <td>24.03</td>\n",
       "      <td>GS</td>\n",
       "      <td>Normais</td>\n",
       "      <td>90.0</td>\n",
       "      <td>50.0</td>\n",
       "      <td>Não Calculado</td>\n",
       "      <td>Normal</td>\n",
       "      <td>Sistólico</td>\n",
       "      <td>NaN</td>\n",
       "      <td>NaN</td>\n",
       "      <td>NaN</td>\n",
       "      <td>F</td>\n",
       "      <td>6 - Suspeita de cardiopatia</td>\n",
       "      <td>6 - Dor precordial</td>\n",
       "    </tr>\n",
       "    <tr>\n",
       "      <th>14726</th>\n",
       "      <td>17873</td>\n",
       "      <td>44.50</td>\n",
       "      <td>0</td>\n",
       "      <td>NaN</td>\n",
       "      <td>10/07/03</td>\n",
       "      <td>21/07/92</td>\n",
       "      <td>11.38</td>\n",
       "      <td>GS</td>\n",
       "      <td>Normais</td>\n",
       "      <td>110.0</td>\n",
       "      <td>80.0</td>\n",
       "      <td>Não Calculado</td>\n",
       "      <td>Normal</td>\n",
       "      <td>ausente</td>\n",
       "      <td>80</td>\n",
       "      <td>Dor precordial</td>\n",
       "      <td>NaN</td>\n",
       "      <td>F</td>\n",
       "      <td>6 - Suspeita de cardiopatia</td>\n",
       "      <td>6 - Dor precordial</td>\n",
       "    </tr>\n",
       "  </tbody>\n",
       "</table>\n",
       "<p>13974 rows × 20 columns</p>\n",
       "</div>"
      ],
      "text/plain": [
       "          Id   Peso  Altura   IMC Atendimento        DN  IDADE Convenio  \\\n",
       "0          2   3.50      50  14.0    25/05/05  19/05/05   0.02       GS   \n",
       "1          3  16.51       0   NaN    12/06/01  08/05/05   4.05     SULA   \n",
       "2          4   8.10      65  19.0    15/10/09  21/04/09   0.50      NaN   \n",
       "3          6  26.00     112  21.0    22/08/03  26/05/99   4.40       GS   \n",
       "4          7  40.00     151  18.0    14/01/08  14/08/95  12.89     SAME   \n",
       "...      ...    ...     ...   ...         ...       ...    ...      ...   \n",
       "14722  17868  10.60      85  15.0    28/12/06  06/12/04   2.14      NaN   \n",
       "14723  17869   9.50      76  16.0    03/02/06  06/12/04   1.20      NaN   \n",
       "14724  17871  65.00     175  21.0    03/08/07  16/02/84  24.34   Medial   \n",
       "14725  17872  27.00     134  15.0    04/10/04  03/12/27  24.03       GS   \n",
       "14726  17873  44.50       0   NaN    10/07/03  21/07/92  11.38       GS   \n",
       "\n",
       "        PULSOS  PA SISTOLICA  PA DIASTOLICA            PPA           B2  \\\n",
       "0      Normais           NaN            NaN  Não Calculado       Normal   \n",
       "1      Normais           NaN            NaN  Não Calculado       Normal   \n",
       "2      Normais           NaN            NaN  Não Calculado       Normal   \n",
       "3      Normais         100.0           60.0         Normal  Desdob fixo   \n",
       "4      Normais           NaN            NaN  Não Calculado       Normal   \n",
       "...        ...           ...            ...            ...          ...   \n",
       "14722  Normais          90.0           50.0  Não Calculado       Normal   \n",
       "14723  Normais           NaN            NaN  Não Calculado       Normal   \n",
       "14724  Normais         126.0           80.0  Não Calculado       Normal   \n",
       "14725  Normais          90.0           50.0  Não Calculado       Normal   \n",
       "14726  Normais         110.0           80.0  Não Calculado       Normal   \n",
       "\n",
       "           SOPRO   FC           HDA 1 HDA2 SEXO  \\\n",
       "0        ausente  128        Dispneia  NaN    M   \n",
       "1      Sistólico   88   Assintomático  NaN    M   \n",
       "2        ausente   92   Assintomático  NaN    M   \n",
       "3        ausente  100   Assintomático  NaN    M   \n",
       "4        ausente   96  Dor precordial  NaN    M   \n",
       "...          ...  ...             ...  ...  ...   \n",
       "14722    ausente  100   Assintomático  NaN    M   \n",
       "14723    ausente   92   Assintomático  NaN    M   \n",
       "14724    ausente   76  Dor precordial  NaN    F   \n",
       "14725  Sistólico  NaN             NaN  NaN    F   \n",
       "14726    ausente   80  Dor precordial  NaN    F   \n",
       "\n",
       "                               MOTIVO1                    MOTIVO2  \n",
       "0          6 - Suspeita de cardiopatia               6 - Dispnéia  \n",
       "1                         2 - Check-up                        NaN  \n",
       "2             5 - Parecer cardiológico                        NaN  \n",
       "3                         2 - Check-up                        NaN  \n",
       "4             5 - Parecer cardiológico                        NaN  \n",
       "...                                ...                        ...  \n",
       "14722         5 - Parecer cardiológico               5 - Cirurgia  \n",
       "14723         5 - Parecer cardiológico               5 - Cirurgia  \n",
       "14724  1 - Cardiopatia já estabelecida  1 - Cardiopatia congenica  \n",
       "14725      6 - Suspeita de cardiopatia         6 - Dor precordial  \n",
       "14726      6 - Suspeita de cardiopatia         6 - Dor precordial  \n",
       "\n",
       "[13974 rows x 20 columns]"
      ]
     },
     "execution_count": 13,
     "metadata": {},
     "output_type": "execute_result"
    }
   ],
   "source": [
    "# Substituir todos os valores 'I' por 'F' na coluna 'SEXO'\n",
    "df['SEXO'] = df['SEXO'].replace('I', 'F')\n",
    "\n",
    "from scripts.analise_exploratoria import define_medida\n",
    "# Completar o peso para pesos iguais a 0 ou null.\n",
    "define_medida(df, 'Peso')"
   ]
  },
  {
   "cell_type": "markdown",
   "metadata": {},
   "source": [
    "#### Altura"
   ]
  },
  {
   "cell_type": "code",
   "execution_count": 14,
   "metadata": {},
   "outputs": [
    {
     "name": "stdout",
     "output_type": "stream",
     "text": [
      "A coluna 'Altura' possui 0 valores nulos (0.00%).\n",
      "\n",
      "A coluna 'Altura' possui 0 valores negativos (0.00%).\n",
      "\n",
      "A coluna 'Altura' possui 3045 valores zero (21.79%).\n",
      "\n",
      "Média da coluna 'Altura': 87.44\n",
      "\n",
      "Mediana da coluna 'Altura': 101.00\n",
      "\n",
      "Moda da coluna 'Altura': 0.00\n",
      "\n",
      "Desvio padrão da coluna 'Altura': 55.11\n",
      "\n",
      "Variância da coluna 'Altura': 3036.58\n",
      "\n",
      "Quartis da coluna 'Altura': \n",
      "0.25     50.0\n",
      "0.50    101.0\n",
      "0.75    132.0\n",
      "Name: Altura, dtype: float64\n",
      "\n"
     ]
    },
    {
     "data": {
      "image/png": "[encoded data removed]",
      "text/plain": [
       "<Figure size 800x600 with 1 Axes>"
      ]
     },
     "metadata": {},
     "output_type": "display_data"
    },
    {
     "data": {
      "image/png": "[encoded data removed]",
      "text/plain": [
       "<Figure size 800x600 with 1 Axes>"
      ]
     },
     "metadata": {},
     "output_type": "display_data"
    }
   ],
   "source": [
    "from scripts.analise_exploratoria import analise_descritiva\n",
    "analise_descritiva(df, 'Altura')\n",
    "\n",
    "from scripts.analise_exploratoria import visualizacao\n",
    "visualizacao(df, 'Altura')"
   ]
  },
  {
   "cell_type": "code",
   "execution_count": 15,
   "metadata": {},
   "outputs": [
    {
     "name": "stdout",
     "output_type": "stream",
     "text": [
      "A Altura tem a unidade int64.\n"
     ]
    },
    {
     "name": "stderr",
     "output_type": "stream",
     "text": [
      "/home/paula/Área de trabalho/template-implementacao/scripts/analise_exploratoria.py:425: FutureWarning: Setting an item of incompatible dtype is deprecated and will raise an error in a future version of pandas. Value '[103.4 167.8 167.8 ... 117.5 149.6 144.7]' has dtype incompatible with int64, please explicitly cast to a compatible dtype first.\n",
      "  df.loc[mask, medida] = df.loc[mask].apply(\n"
     ]
    },
    {
     "data": {
      "text/html": [
       "<div>\n",
       "<style scoped>\n",
       "    .dataframe tbody tr th:only-of-type {\n",
       "        vertical-align: middle;\n",
       "    }\n",
       "\n",
       "    .dataframe tbody tr th {\n",
       "        vertical-align: top;\n",
       "    }\n",
       "\n",
       "    .dataframe thead th {\n",
       "        text-align: right;\n",
       "    }\n",
       "</style>\n",
       "<table border=\"1\" class=\"dataframe\">\n",
       "  <thead>\n",
       "    <tr style=\"text-align: right;\">\n",
       "      <th></th>\n",
       "      <th>Id</th>\n",
       "      <th>Peso</th>\n",
       "      <th>Altura</th>\n",
       "      <th>IMC</th>\n",
       "      <th>Atendimento</th>\n",
       "      <th>DN</th>\n",
       "      <th>IDADE</th>\n",
       "      <th>Convenio</th>\n",
       "      <th>PULSOS</th>\n",
       "      <th>PA SISTOLICA</th>\n",
       "      <th>PA DIASTOLICA</th>\n",
       "      <th>PPA</th>\n",
       "      <th>B2</th>\n",
       "      <th>SOPRO</th>\n",
       "      <th>FC</th>\n",
       "      <th>HDA 1</th>\n",
       "      <th>HDA2</th>\n",
       "      <th>SEXO</th>\n",
       "      <th>MOTIVO1</th>\n",
       "      <th>MOTIVO2</th>\n",
       "    </tr>\n",
       "  </thead>\n",
       "  <tbody>\n",
       "    <tr>\n",
       "      <th>0</th>\n",
       "      <td>2</td>\n",
       "      <td>3.50</td>\n",
       "      <td>50.0</td>\n",
       "      <td>14.0</td>\n",
       "      <td>25/05/05</td>\n",
       "      <td>19/05/05</td>\n",
       "      <td>0.02</td>\n",
       "      <td>GS</td>\n",
       "      <td>Normais</td>\n",
       "      <td>NaN</td>\n",
       "      <td>NaN</td>\n",
       "      <td>Não Calculado</td>\n",
       "      <td>Normal</td>\n",
       "      <td>ausente</td>\n",
       "      <td>128</td>\n",
       "      <td>Dispneia</td>\n",
       "      <td>NaN</td>\n",
       "      <td>M</td>\n",
       "      <td>6 - Suspeita de cardiopatia</td>\n",
       "      <td>6 - Dispnéia</td>\n",
       "    </tr>\n",
       "    <tr>\n",
       "      <th>1</th>\n",
       "      <td>3</td>\n",
       "      <td>16.51</td>\n",
       "      <td>103.4</td>\n",
       "      <td>NaN</td>\n",
       "      <td>12/06/01</td>\n",
       "      <td>08/05/05</td>\n",
       "      <td>4.05</td>\n",
       "      <td>SULA</td>\n",
       "      <td>Normais</td>\n",
       "      <td>NaN</td>\n",
       "      <td>NaN</td>\n",
       "      <td>Não Calculado</td>\n",
       "      <td>Normal</td>\n",
       "      <td>Sistólico</td>\n",
       "      <td>88</td>\n",
       "      <td>Assintomático</td>\n",
       "      <td>NaN</td>\n",
       "      <td>M</td>\n",
       "      <td>2 - Check-up</td>\n",
       "      <td>NaN</td>\n",
       "    </tr>\n",
       "    <tr>\n",
       "      <th>2</th>\n",
       "      <td>4</td>\n",
       "      <td>8.10</td>\n",
       "      <td>65.0</td>\n",
       "      <td>19.0</td>\n",
       "      <td>15/10/09</td>\n",
       "      <td>21/04/09</td>\n",
       "      <td>0.50</td>\n",
       "      <td>NaN</td>\n",
       "      <td>Normais</td>\n",
       "      <td>NaN</td>\n",
       "      <td>NaN</td>\n",
       "      <td>Não Calculado</td>\n",
       "      <td>Normal</td>\n",
       "      <td>ausente</td>\n",
       "      <td>92</td>\n",
       "      <td>Assintomático</td>\n",
       "      <td>NaN</td>\n",
       "      <td>M</td>\n",
       "      <td>5 - Parecer cardiológico</td>\n",
       "      <td>NaN</td>\n",
       "    </tr>\n",
       "    <tr>\n",
       "      <th>3</th>\n",
       "      <td>6</td>\n",
       "      <td>26.00</td>\n",
       "      <td>112.0</td>\n",
       "      <td>21.0</td>\n",
       "      <td>22/08/03</td>\n",
       "      <td>26/05/99</td>\n",
       "      <td>4.40</td>\n",
       "      <td>GS</td>\n",
       "      <td>Normais</td>\n",
       "      <td>100.0</td>\n",
       "      <td>60.0</td>\n",
       "      <td>Normal</td>\n",
       "      <td>Desdob fixo</td>\n",
       "      <td>ausente</td>\n",
       "      <td>100</td>\n",
       "      <td>Assintomático</td>\n",
       "      <td>NaN</td>\n",
       "      <td>M</td>\n",
       "      <td>2 - Check-up</td>\n",
       "      <td>NaN</td>\n",
       "    </tr>\n",
       "    <tr>\n",
       "      <th>4</th>\n",
       "      <td>7</td>\n",
       "      <td>40.00</td>\n",
       "      <td>151.0</td>\n",
       "      <td>18.0</td>\n",
       "      <td>14/01/08</td>\n",
       "      <td>14/08/95</td>\n",
       "      <td>12.89</td>\n",
       "      <td>SAME</td>\n",
       "      <td>Normais</td>\n",
       "      <td>NaN</td>\n",
       "      <td>NaN</td>\n",
       "      <td>Não Calculado</td>\n",
       "      <td>Normal</td>\n",
       "      <td>ausente</td>\n",
       "      <td>96</td>\n",
       "      <td>Dor precordial</td>\n",
       "      <td>NaN</td>\n",
       "      <td>M</td>\n",
       "      <td>5 - Parecer cardiológico</td>\n",
       "      <td>NaN</td>\n",
       "    </tr>\n",
       "    <tr>\n",
       "      <th>...</th>\n",
       "      <td>...</td>\n",
       "      <td>...</td>\n",
       "      <td>...</td>\n",
       "      <td>...</td>\n",
       "      <td>...</td>\n",
       "      <td>...</td>\n",
       "      <td>...</td>\n",
       "      <td>...</td>\n",
       "      <td>...</td>\n",
       "      <td>...</td>\n",
       "      <td>...</td>\n",
       "      <td>...</td>\n",
       "      <td>...</td>\n",
       "      <td>...</td>\n",
       "      <td>...</td>\n",
       "      <td>...</td>\n",
       "      <td>...</td>\n",
       "      <td>...</td>\n",
       "      <td>...</td>\n",
       "      <td>...</td>\n",
       "    </tr>\n",
       "    <tr>\n",
       "      <th>14722</th>\n",
       "      <td>17868</td>\n",
       "      <td>10.60</td>\n",
       "      <td>85.0</td>\n",
       "      <td>15.0</td>\n",
       "      <td>28/12/06</td>\n",
       "      <td>06/12/04</td>\n",
       "      <td>2.14</td>\n",
       "      <td>NaN</td>\n",
       "      <td>Normais</td>\n",
       "      <td>90.0</td>\n",
       "      <td>50.0</td>\n",
       "      <td>Não Calculado</td>\n",
       "      <td>Normal</td>\n",
       "      <td>ausente</td>\n",
       "      <td>100</td>\n",
       "      <td>Assintomático</td>\n",
       "      <td>NaN</td>\n",
       "      <td>M</td>\n",
       "      <td>5 - Parecer cardiológico</td>\n",
       "      <td>5 - Cirurgia</td>\n",
       "    </tr>\n",
       "    <tr>\n",
       "      <th>14723</th>\n",
       "      <td>17869</td>\n",
       "      <td>9.50</td>\n",
       "      <td>76.0</td>\n",
       "      <td>16.0</td>\n",
       "      <td>03/02/06</td>\n",
       "      <td>06/12/04</td>\n",
       "      <td>1.20</td>\n",
       "      <td>NaN</td>\n",
       "      <td>Normais</td>\n",
       "      <td>NaN</td>\n",
       "      <td>NaN</td>\n",
       "      <td>Não Calculado</td>\n",
       "      <td>Normal</td>\n",
       "      <td>ausente</td>\n",
       "      <td>92</td>\n",
       "      <td>Assintomático</td>\n",
       "      <td>NaN</td>\n",
       "      <td>M</td>\n",
       "      <td>5 - Parecer cardiológico</td>\n",
       "      <td>5 - Cirurgia</td>\n",
       "    </tr>\n",
       "    <tr>\n",
       "      <th>14724</th>\n",
       "      <td>17871</td>\n",
       "      <td>65.00</td>\n",
       "      <td>175.0</td>\n",
       "      <td>21.0</td>\n",
       "      <td>03/08/07</td>\n",
       "      <td>16/02/84</td>\n",
       "      <td>24.34</td>\n",
       "      <td>Medial</td>\n",
       "      <td>Normais</td>\n",
       "      <td>126.0</td>\n",
       "      <td>80.0</td>\n",
       "      <td>Não Calculado</td>\n",
       "      <td>Normal</td>\n",
       "      <td>ausente</td>\n",
       "      <td>76</td>\n",
       "      <td>Dor precordial</td>\n",
       "      <td>NaN</td>\n",
       "      <td>F</td>\n",
       "      <td>1 - Cardiopatia já estabelecida</td>\n",
       "      <td>1 - Cardiopatia congenica</td>\n",
       "    </tr>\n",
       "    <tr>\n",
       "      <th>14725</th>\n",
       "      <td>17872</td>\n",
       "      <td>27.00</td>\n",
       "      <td>134.0</td>\n",
       "      <td>15.0</td>\n",
       "      <td>04/10/04</td>\n",
       "      <td>03/12/27</td>\n",
       "      <td>24.03</td>\n",
       "      <td>GS</td>\n",
       "      <td>Normais</td>\n",
       "      <td>90.0</td>\n",
       "      <td>50.0</td>\n",
       "      <td>Não Calculado</td>\n",
       "      <td>Normal</td>\n",
       "      <td>Sistólico</td>\n",
       "      <td>NaN</td>\n",
       "      <td>NaN</td>\n",
       "      <td>NaN</td>\n",
       "      <td>F</td>\n",
       "      <td>6 - Suspeita de cardiopatia</td>\n",
       "      <td>6 - Dor precordial</td>\n",
       "    </tr>\n",
       "    <tr>\n",
       "      <th>14726</th>\n",
       "      <td>17873</td>\n",
       "      <td>44.50</td>\n",
       "      <td>144.7</td>\n",
       "      <td>NaN</td>\n",
       "      <td>10/07/03</td>\n",
       "      <td>21/07/92</td>\n",
       "      <td>11.38</td>\n",
       "      <td>GS</td>\n",
       "      <td>Normais</td>\n",
       "      <td>110.0</td>\n",
       "      <td>80.0</td>\n",
       "      <td>Não Calculado</td>\n",
       "      <td>Normal</td>\n",
       "      <td>ausente</td>\n",
       "      <td>80</td>\n",
       "      <td>Dor precordial</td>\n",
       "      <td>NaN</td>\n",
       "      <td>F</td>\n",
       "      <td>6 - Suspeita de cardiopatia</td>\n",
       "      <td>6 - Dor precordial</td>\n",
       "    </tr>\n",
       "  </tbody>\n",
       "</table>\n",
       "<p>13974 rows × 20 columns</p>\n",
       "</div>"
      ],
      "text/plain": [
       "          Id   Peso  Altura   IMC Atendimento        DN  IDADE Convenio  \\\n",
       "0          2   3.50    50.0  14.0    25/05/05  19/05/05   0.02       GS   \n",
       "1          3  16.51   103.4   NaN    12/06/01  08/05/05   4.05     SULA   \n",
       "2          4   8.10    65.0  19.0    15/10/09  21/04/09   0.50      NaN   \n",
       "3          6  26.00   112.0  21.0    22/08/03  26/05/99   4.40       GS   \n",
       "4          7  40.00   151.0  18.0    14/01/08  14/08/95  12.89     SAME   \n",
       "...      ...    ...     ...   ...         ...       ...    ...      ...   \n",
       "14722  17868  10.60    85.0  15.0    28/12/06  06/12/04   2.14      NaN   \n",
       "14723  17869   9.50    76.0  16.0    03/02/06  06/12/04   1.20      NaN   \n",
       "14724  17871  65.00   175.0  21.0    03/08/07  16/02/84  24.34   Medial   \n",
       "14725  17872  27.00   134.0  15.0    04/10/04  03/12/27  24.03       GS   \n",
       "14726  17873  44.50   144.7   NaN    10/07/03  21/07/92  11.38       GS   \n",
       "\n",
       "        PULSOS  PA SISTOLICA  PA DIASTOLICA            PPA           B2  \\\n",
       "0      Normais           NaN            NaN  Não Calculado       Normal   \n",
       "1      Normais           NaN            NaN  Não Calculado       Normal   \n",
       "2      Normais           NaN            NaN  Não Calculado       Normal   \n",
       "3      Normais         100.0           60.0         Normal  Desdob fixo   \n",
       "4      Normais           NaN            NaN  Não Calculado       Normal   \n",
       "...        ...           ...            ...            ...          ...   \n",
       "14722  Normais          90.0           50.0  Não Calculado       Normal   \n",
       "14723  Normais           NaN            NaN  Não Calculado       Normal   \n",
       "14724  Normais         126.0           80.0  Não Calculado       Normal   \n",
       "14725  Normais          90.0           50.0  Não Calculado       Normal   \n",
       "14726  Normais         110.0           80.0  Não Calculado       Normal   \n",
       "\n",
       "           SOPRO   FC           HDA 1 HDA2 SEXO  \\\n",
       "0        ausente  128        Dispneia  NaN    M   \n",
       "1      Sistólico   88   Assintomático  NaN    M   \n",
       "2        ausente   92   Assintomático  NaN    M   \n",
       "3        ausente  100   Assintomático  NaN    M   \n",
       "4        ausente   96  Dor precordial  NaN    M   \n",
       "...          ...  ...             ...  ...  ...   \n",
       "14722    ausente  100   Assintomático  NaN    M   \n",
       "14723    ausente   92   Assintomático  NaN    M   \n",
       "14724    ausente   76  Dor precordial  NaN    F   \n",
       "14725  Sistólico  NaN             NaN  NaN    F   \n",
       "14726    ausente   80  Dor precordial  NaN    F   \n",
       "\n",
       "                               MOTIVO1                    MOTIVO2  \n",
       "0          6 - Suspeita de cardiopatia               6 - Dispnéia  \n",
       "1                         2 - Check-up                        NaN  \n",
       "2             5 - Parecer cardiológico                        NaN  \n",
       "3                         2 - Check-up                        NaN  \n",
       "4             5 - Parecer cardiológico                        NaN  \n",
       "...                                ...                        ...  \n",
       "14722         5 - Parecer cardiológico               5 - Cirurgia  \n",
       "14723         5 - Parecer cardiológico               5 - Cirurgia  \n",
       "14724  1 - Cardiopatia já estabelecida  1 - Cardiopatia congenica  \n",
       "14725      6 - Suspeita de cardiopatia         6 - Dor precordial  \n",
       "14726      6 - Suspeita de cardiopatia         6 - Dor precordial  \n",
       "\n",
       "[13974 rows x 20 columns]"
      ]
     },
     "execution_count": 15,
     "metadata": {},
     "output_type": "execute_result"
    }
   ],
   "source": [
    "print(f'A Altura tem a unidade {df[\"Altura\"].dtype}.')\n",
    "define_medida(df, 'Altura')"
   ]
  },
  {
   "cell_type": "markdown",
   "metadata": {},
   "source": [
    "### Convênio"
   ]
  },
  {
   "cell_type": "code",
   "execution_count": 16,
   "metadata": {},
   "outputs": [
    {
     "name": "stdout",
     "output_type": "stream",
     "text": [
      "Existem 407 tipos de categorias diferentes para a coluna Convenio.\n",
      "\n",
      "Categorias da coluna Convenio e a quantidade: \n",
      "\n",
      "Convenio\n",
      "GS              2221\n",
      "UR              1840\n",
      "SB               580\n",
      "GRUPO            449\n",
      "CAMED            391\n",
      "                ... \n",
      "S.HELEN            1\n",
      "STA HE             1\n",
      "Medial saúde       1\n",
      "STA HEL.           1\n",
      "S.Am               1\n",
      "Name: count, Length: 407, dtype: int64\n",
      "\n",
      "A coluna 'Convenio' possui 3740 valores nulos (26.76%).\n",
      "\n"
     ]
    }
   ],
   "source": [
    "from scripts.analise_exploratoria import analise_descritiva_categorica\n",
    "analise_descritiva_categorica(df, 'Convenio')"
   ]
  },
  {
   "cell_type": "markdown",
   "metadata": {},
   "source": [
    "Também irá para lowercase o convênio."
   ]
  },
  {
   "cell_type": "code",
   "execution_count": 17,
   "metadata": {},
   "outputs": [
    {
     "name": "stdout",
     "output_type": "stream",
     "text": [
      "Existem 292 tipos de categorias diferentes para a coluna Convenio.\n",
      "\n"
     ]
    }
   ],
   "source": [
    "df['Convenio'] = df['Convenio'].str.lower()\n",
    "quant_categorias = df['Convenio'].value_counts().size\n",
    "print(f\"Existem {quant_categorias} tipos de categorias diferentes para a coluna {'Convenio'}.\\n\")"
   ]
  },
  {
   "cell_type": "markdown",
   "metadata": {},
   "source": [
    "Antes da normalização para letras minúsculas, havia 439 convênios distintos. Após esse procedimento, agora é 317.\n",
    "\n",
    "Após uma inspeção manual dos dados, é possível perceber que o mesmo convênio foi registrado de forma diferente na tabela. Considerando apenas as letras minúsculas:\n",
    "\n",
    "O convênio **Sul América** tem ocorrências na forma: \"sa\", \"sula\", \"sulam\", \"s. america\", \"sul america\", \"sulamerica\", \"américa\", \"sul am\", \"america s.\", \"s.am\", \"s.america\", \"america\", \"s.a.\"...\n",
    "\n",
    "O convênio **Norclínicas** tem ocorrências na forma: \"norcl\", \"norclinicas\", \"norclin\", \"norclin.\", \"norclinica\", \"norc\"...\n",
    "\n",
    "Por isso, será feita uma normalização manual, mapeando todos para um valor padrão."
   ]
  },
  {
   "cell_type": "code",
   "execution_count": 18,
   "metadata": {},
   "outputs": [],
   "source": [
    "from scripts.analise_exploratoria import normalizar_convenio\n",
    "df['Convenio'] = df['Convenio'].apply(normalizar_convenio)"
   ]
  },
  {
   "cell_type": "code",
   "execution_count": 19,
   "metadata": {},
   "outputs": [
    {
     "name": "stdout",
     "output_type": "stream",
     "text": [
      "Existem 162 tipos de categorias diferentes para a coluna Convenio.\n",
      "\n",
      "Existem 162 tipos de categorias diferentes para a coluna Convenio.\n",
      "\n",
      "Categorias da coluna Convenio e a quantidade: \n",
      "\n",
      "Convenio\n",
      "gs                     2226\n",
      "unimed recife          1950\n",
      "sul america             703\n",
      "camed                   683\n",
      "sb                      582\n",
      "                       ... \n",
      "embra                     1\n",
      "medial saúde              1\n",
      "hospital residência       1\n",
      "c. coração                1\n",
      "jorge de medeiros         1\n",
      "Name: count, Length: 162, dtype: int64\n",
      "\n",
      "A coluna 'Convenio' possui 3740 valores nulos (26.76%).\n",
      "\n"
     ]
    }
   ],
   "source": [
    "quant_categorias = df['Convenio'].value_counts().size\n",
    "print(f\"Existem {quant_categorias} tipos de categorias diferentes para a coluna {'Convenio'}.\\n\")\n",
    "\n",
    "analise_descritiva_categorica(df, 'Convenio')"
   ]
  },
  {
   "cell_type": "code",
   "execution_count": 20,
   "metadata": {},
   "outputs": [
    {
     "name": "stdout",
     "output_type": "stream",
     "text": [
      "['gs' 'sul america' nan 'same' 'unimed recife' 'grupo' 'part' 'sb' 'ug'\n",
      " 'norclinicas' 'camed' 'medial' 'ct' 'cc' 'semepe' 'sus' 'funcef' 'ideal'\n",
      " 'santa helena' 'fusex' 'real saude' 'unibanco' '35971' 'tabela' 'viva'\n",
      " 'blserv' 'aeronautica' 'fachesf' 'medservice' 'mediservice' 'mms' 'asl'\n",
      " 'as' 'cassi' 'sbpref' 'circulo' 'u g' 'notredame' 'celpos' 'saude recife'\n",
      " 'santa clara' 's. cx' 'assef' 'oab' 'assefaz' 'blue life' 'notre dame'\n",
      " 'petrobras' 'campe' 'comsaúde' 'gc' 'particular' 'bradesco' 'part.'\n",
      " 'círculo' 'chesf' 'fachesp' 'agf' 'gama' 'unimed' 'fisco' 'reemb.'\n",
      " 'cortesia' '39561' 's. caixa' 'saude excelsior' 'celpe' 'cass' 'ree/sa'\n",
      " 'tab' 'sh' 'uniban' 'unib.' 'embrat' 'tab/ur' 'alians' 'fisco saude'\n",
      " 'golden' '38001' 'saúde caixa' 'amil' 'amep' 'cort' 'c cor' 'patrt'\n",
      " 'rela saude' 'ideal s.' 'saq' 'embratel' 'comsaude' 'assefa' '17999'\n",
      " 'fiscosaude' 'plan' 'staher' 'semep' 'u.g.' '36170' 'golden cross' 's.b.'\n",
      " 'banco  central' 'cassi + tab' 'unib' 'plan assiste' 'ucaruaru'\n",
      " 'odeal s.' 'tba' 'correio' 'cassi/  part.' 'caixa' 'plansf' 'amb'\n",
      " '113205' 'gama saúde' 'grupo saúde' 'plan ass.' 'se' '38412' 'sta lucia'\n",
      " 'bancem' '38706' 'plan a' 'saude caixa' 'amepca' 'fisco s.' 'plan assist'\n",
      " 'sus/tmo' 'santa  helena' 'tab/sb' 'meridional' 'amep camp' 'reemb' 're'\n",
      " 'sudene' 'gama s.' 'círculo cor' 'ideal s' 'sr' 'vivo' 'p.ucmf'\n",
      " 'ideal saude' 'fiscos' 'agf s.' 'circc' '38447' 'fioprev' 'gold'\n",
      " 's;. recife' 'cisam' 'unimed petrolina' 'sthelena' 'pm' 'santa lucia'\n",
      " 'ideal saúde' 'acmed' 'tabel' 'unim' 'corr' 'embra' 'medial saúde'\n",
      " 'hospital residência' 'c. coração' 'jorge de medeiros']\n"
     ]
    }
   ],
   "source": [
    "convenios_unicos = df['Convenio'].unique()\n",
    "\n",
    "# Imprimindo os resultados\n",
    "print(convenios_unicos)"
   ]
  },
  {
   "cell_type": "markdown",
   "metadata": {},
   "source": [
    "Ainda há bastante convênio com o valor nulo que serão substituídos pelo campo \"sem info\""
   ]
  },
  {
   "cell_type": "code",
   "execution_count": 21,
   "metadata": {},
   "outputs": [],
   "source": [
    "df['Convenio'] = df['Convenio'].fillna('sem info')"
   ]
  },
  {
   "cell_type": "markdown",
   "metadata": {},
   "source": [
    "### Pulsos"
   ]
  },
  {
   "cell_type": "code",
   "execution_count": 22,
   "metadata": {},
   "outputs": [
    {
     "name": "stdout",
     "output_type": "stream",
     "text": [
      "Existem 7 tipos de categorias diferentes para a coluna PULSOS.\n",
      "\n",
      "Categorias da coluna PULSOS e a quantidade: \n",
      "\n",
      "PULSOS\n",
      "Normais                13395\n",
      "Amplos                    45\n",
      "Outro                     39\n",
      "Femorais diminuidos       36\n",
      "Diminuídos                17\n",
      "NORMAIS                    2\n",
      "AMPLOS                     1\n",
      "Name: count, dtype: int64\n",
      "\n",
      "A coluna 'PULSOS' possui 439 valores nulos (3.14%).\n",
      "\n"
     ]
    }
   ],
   "source": [
    "from scripts.analise_exploratoria import analise_descritiva_categorica\n",
    "analise_descritiva_categorica(df, 'PULSOS')"
   ]
  },
  {
   "cell_type": "markdown",
   "metadata": {},
   "source": [
    "O primeiro tratamento aplicado à coluna de 'PULSOS' será a normalização. Todos os valores serão transformados para letra minúscula. Dessa maneira, isso corrigirá a diferença entre os pulsos sendo categorizados de maneira diferente para \"NORMAIS\" e \"Normais\" e \"AMPLOS\" e \"amplos\"."
   ]
  },
  {
   "cell_type": "code",
   "execution_count": 23,
   "metadata": {},
   "outputs": [
    {
     "name": "stdout",
     "output_type": "stream",
     "text": [
      "Existem 5 tipos de categorias diferentes para a coluna PULSOS.\n",
      "\n",
      "Categorias da coluna PULSOS e a quantidade: \n",
      "\n",
      "PULSOS\n",
      "normais                13397\n",
      "amplos                    46\n",
      "outro                     39\n",
      "femorais diminuidos       36\n",
      "diminuídos                17\n",
      "Name: count, dtype: int64\n",
      "\n",
      "A coluna 'PULSOS' possui 439 valores nulos (3.14%).\n",
      "\n"
     ]
    }
   ],
   "source": [
    "df['PULSOS'] = df['PULSOS'].str.lower()\n",
    "analise_descritiva_categorica(df, 'PULSOS')"
   ]
  },
  {
   "cell_type": "code",
   "execution_count": 24,
   "metadata": {},
   "outputs": [
    {
     "name": "stdout",
     "output_type": "stream",
     "text": [
      "Existem 5 tipos de categorias diferentes para a coluna PULSOS.\n",
      "\n",
      "Categorias da coluna PULSOS e a quantidade: \n",
      "\n",
      "PULSOS\n",
      "normais                13397\n",
      "outro                    478\n",
      "amplos                    46\n",
      "femorais diminuidos       36\n",
      "diminuídos                17\n",
      "Name: count, dtype: int64\n",
      "\n",
      "A coluna 'PULSOS' possui 0 valores nulos (0.00%).\n",
      "\n"
     ]
    }
   ],
   "source": [
    "# Os valores nulos serão substituídos por \"outro\"\n",
    "df['PULSOS'] = df['PULSOS'].fillna('outro')\n",
    "\n",
    "analise_descritiva_categorica(df, 'PULSOS')"
   ]
  },
  {
   "cell_type": "markdown",
   "metadata": {},
   "source": [
    "### Pressão arterial sistólica\n",
    "\n",
    "O que significa a pressão arterial sistólica?"
   ]
  },
  {
   "cell_type": "code",
   "execution_count": 25,
   "metadata": {
    "scrolled": true
   },
   "outputs": [
    {
     "name": "stdout",
     "output_type": "stream",
     "text": [
      "A coluna 'PA SISTOLICA' possui 5742 valores nulos (41.09%).\n",
      "\n",
      "A coluna 'PA SISTOLICA' possui 0 valores negativos (0.00%).\n",
      "\n",
      "A coluna 'PA SISTOLICA' possui 0 valores zero (0.00%).\n",
      "\n",
      "Média da coluna 'PA SISTOLICA': 101.40\n",
      "\n",
      "Mediana da coluna 'PA SISTOLICA': 100.00\n",
      "\n",
      "Moda da coluna 'PA SISTOLICA': 100.00\n",
      "\n",
      "Desvio padrão da coluna 'PA SISTOLICA': 15.00\n",
      "\n",
      "Variância da coluna 'PA SISTOLICA': 224.87\n",
      "\n",
      "Quartis da coluna 'PA SISTOLICA': \n",
      "0.25     90.0\n",
      "0.50    100.0\n",
      "0.75    110.0\n",
      "Name: PA SISTOLICA, dtype: float64\n",
      "\n"
     ]
    },
    {
     "data": {
      "image/png": "[encoded data removed]",
      "text/plain": [
       "<Figure size 800x600 with 1 Axes>"
      ]
     },
     "metadata": {},
     "output_type": "display_data"
    },
    {
     "data": {
      "image/png": "[encoded data removed]",
      "text/plain": [
       "<Figure size 800x600 with 1 Axes>"
      ]
     },
     "metadata": {},
     "output_type": "display_data"
    }
   ],
   "source": [
    "from scripts.analise_exploratoria import analise_descritiva\n",
    "analise_descritiva(df, 'PA SISTOLICA')\n",
    "\n",
    "from scripts.analise_exploratoria import visualizacao\n",
    "visualizacao(df, 'PA SISTOLICA')"
   ]
  },
  {
   "cell_type": "markdown",
   "metadata": {},
   "source": [
    "O problema da coluna PA SISTOLICA é que existem muitos valores nulos. Para endereçar esse problema, para a PA SISTOLICA nula, será substituída pela moda dos objetos com a mesma pressão."
   ]
  },
  {
   "cell_type": "code",
   "execution_count": 26,
   "metadata": {},
   "outputs": [
    {
     "name": "stdout",
     "output_type": "stream",
     "text": [
      "A coluna 'PA SISTOLICA' possui 0 valores nulos (0.00%).\n",
      "\n",
      "A coluna 'PA SISTOLICA' possui 0 valores negativos (0.00%).\n",
      "\n",
      "A coluna 'PA SISTOLICA' possui 0 valores zero (0.00%).\n",
      "\n",
      "Média da coluna 'PA SISTOLICA': 101.13\n",
      "\n",
      "Mediana da coluna 'PA SISTOLICA': 100.00\n",
      "\n",
      "Moda da coluna 'PA SISTOLICA': 100.00\n",
      "\n",
      "Desvio padrão da coluna 'PA SISTOLICA': 11.66\n",
      "\n",
      "Variância da coluna 'PA SISTOLICA': 136.04\n",
      "\n",
      "Quartis da coluna 'PA SISTOLICA': \n",
      "0.25    100.0\n",
      "0.50    100.0\n",
      "0.75    100.0\n",
      "Name: PA SISTOLICA, dtype: float64\n",
      "\n"
     ]
    }
   ],
   "source": [
    "from scripts.analise_exploratoria import preencher_pressao_arterial_por_pulso\n",
    "df = preencher_pressao_arterial_por_pulso(df, 'PA SISTOLICA')\n",
    "analise_descritiva(df, 'PA SISTOLICA')"
   ]
  },
  {
   "cell_type": "code",
   "execution_count": 27,
   "metadata": {},
   "outputs": [],
   "source": [
    "# Tratamento do outlier com o valor maior do que 500: Ser igual à moda\n",
    "df.loc[df['PA SISTOLICA'] > 500, 'PA SISTOLICA'] = 100"
   ]
  },
  {
   "cell_type": "markdown",
   "metadata": {},
   "source": [
    "### Pressão arterial diastólica\n",
    "\n",
    "O que significa esse atributo?\n",
    "O mesmo tratamento do que a PA Sistólica"
   ]
  },
  {
   "cell_type": "code",
   "execution_count": 28,
   "metadata": {},
   "outputs": [
    {
     "name": "stdout",
     "output_type": "stream",
     "text": [
      "A coluna 'PA DIASTOLICA' possui 5752 valores nulos (41.16%).\n",
      "\n",
      "A coluna 'PA DIASTOLICA' possui 0 valores negativos (0.00%).\n",
      "\n",
      "A coluna 'PA DIASTOLICA' possui 0 valores zero (0.00%).\n",
      "\n",
      "Média da coluna 'PA DIASTOLICA': 62.37\n",
      "\n",
      "Mediana da coluna 'PA DIASTOLICA': 60.00\n",
      "\n",
      "Moda da coluna 'PA DIASTOLICA': 60.00\n",
      "\n",
      "Desvio padrão da coluna 'PA DIASTOLICA': 8.95\n",
      "\n",
      "Variância da coluna 'PA DIASTOLICA': 80.13\n",
      "\n",
      "Quartis da coluna 'PA DIASTOLICA': \n",
      "0.25    60.0\n",
      "0.50    60.0\n",
      "0.75    70.0\n",
      "Name: PA DIASTOLICA, dtype: float64\n",
      "\n"
     ]
    },
    {
     "data": {
      "image/png": "[encoded data removed]",
      "text/plain": [
       "<Figure size 800x600 with 1 Axes>"
      ]
     },
     "metadata": {},
     "output_type": "display_data"
    },
    {
     "data": {
      "image/png": "[encoded data removed]",
      "text/plain": [
       "<Figure size 800x600 with 1 Axes>"
      ]
     },
     "metadata": {},
     "output_type": "display_data"
    }
   ],
   "source": [
    "from scripts.analise_exploratoria import analise_descritiva\n",
    "analise_descritiva(df, 'PA DIASTOLICA')\n",
    "\n",
    "from scripts.analise_exploratoria import visualizacao\n",
    "visualizacao(df, 'PA DIASTOLICA')"
   ]
  },
  {
   "cell_type": "code",
   "execution_count": 29,
   "metadata": {},
   "outputs": [
    {
     "name": "stdout",
     "output_type": "stream",
     "text": [
      "A coluna 'PA DIASTOLICA' possui 0 valores nulos (0.00%).\n",
      "\n",
      "A coluna 'PA DIASTOLICA' possui 0 valores negativos (0.00%).\n",
      "\n",
      "A coluna 'PA DIASTOLICA' possui 0 valores zero (0.00%).\n",
      "\n",
      "Média da coluna 'PA DIASTOLICA': 61.74\n",
      "\n",
      "Mediana da coluna 'PA DIASTOLICA': 60.00\n",
      "\n",
      "Moda da coluna 'PA DIASTOLICA': 60.00\n",
      "\n",
      "Desvio padrão da coluna 'PA DIASTOLICA': 7.13\n",
      "\n",
      "Variância da coluna 'PA DIASTOLICA': 50.85\n",
      "\n",
      "Quartis da coluna 'PA DIASTOLICA': \n",
      "0.25    60.0\n",
      "0.50    60.0\n",
      "0.75    60.0\n",
      "Name: PA DIASTOLICA, dtype: float64\n",
      "\n"
     ]
    }
   ],
   "source": [
    "df = preencher_pressao_arterial_por_pulso(df, 'PA DIASTOLICA')\n",
    "analise_descritiva(df, 'PA DIASTOLICA')"
   ]
  },
  {
   "cell_type": "markdown",
   "metadata": {},
   "source": [
    "### PPA\n",
    "\n",
    "O que significa essa variável?"
   ]
  },
  {
   "cell_type": "code",
   "execution_count": 30,
   "metadata": {},
   "outputs": [
    {
     "name": "stdout",
     "output_type": "stream",
     "text": [
      "Existem 9 tipos de categorias diferentes para a coluna PPA.\n",
      "\n",
      "Categorias da coluna PPA e a quantidade: \n",
      "\n",
      "PPA\n",
      "Não Calculado          7370\n",
      "Normal                 4917\n",
      "#VALUE!                 743\n",
      "Pre-Hipertensão PAD     182\n",
      "HAS-2 PAS               170\n",
      "Pre-Hipertensão PAS     159\n",
      "HAS-1 PAS               119\n",
      "HAS-1 PAD                69\n",
      "HAS-2 PAD                48\n",
      "Name: count, dtype: int64\n",
      "\n",
      "A coluna 'PPA' possui 197 valores nulos (1.41%).\n",
      "\n",
      "Existem 9 tipos de categorias diferentes para a coluna PPA.\n",
      "\n",
      "Categorias da coluna PPA e a quantidade: \n",
      "\n",
      "PPA\n",
      "não calculado          7370\n",
      "normal                 4917\n",
      "indefinido              940\n",
      "pre-hipertensão pad     182\n",
      "has-2 pas               170\n",
      "pre-hipertensão pas     159\n",
      "has-1 pas               119\n",
      "has-1 pad                69\n",
      "has-2 pad                48\n",
      "Name: count, dtype: int64\n",
      "\n",
      "A coluna 'PPA' possui 0 valores nulos (0.00%).\n",
      "\n"
     ]
    }
   ],
   "source": [
    "analise_descritiva_categorica(df, 'PPA')\n",
    "df['PPA'] = df['PPA'].str.lower()\n",
    "\n",
    "# O calor #value! ser endereçado para \n",
    "df['PPA'] = df['PPA'].replace('#value!', 'indefinido')\n",
    "# Para endereçar os campos nulos\n",
    "df['PPA'] = df['PPA'].fillna('indefinido')\n",
    "\n",
    "analise_descritiva_categorica(df, 'PPA')"
   ]
  },
  {
   "cell_type": "markdown",
   "metadata": {},
   "source": [
    "### B2\n",
    "\n",
    "O que significa?"
   ]
  },
  {
   "cell_type": "code",
   "execution_count": 31,
   "metadata": {},
   "outputs": [
    {
     "name": "stdout",
     "output_type": "stream",
     "text": [
      "Existem 5 tipos de categorias diferentes para a coluna B2.\n",
      "\n",
      "Categorias da coluna B2 e a quantidade: \n",
      "\n",
      "B2\n",
      "Normal           12951\n",
      "Hiperfonética      283\n",
      "Desdob fixo        157\n",
      "Outro               86\n",
      "Única               73\n",
      "Name: count, dtype: int64\n",
      "\n",
      "A coluna 'B2' possui 424 valores nulos (3.03%).\n",
      "\n",
      "Existem 5 tipos de categorias diferentes para a coluna B2.\n",
      "\n",
      "Categorias da coluna B2 e a quantidade: \n",
      "\n",
      "B2\n",
      "normal           12951\n",
      "outro              510\n",
      "hiperfonética      283\n",
      "desdob fixo        157\n",
      "única               73\n",
      "Name: count, dtype: int64\n",
      "\n",
      "A coluna 'B2' possui 0 valores nulos (0.00%).\n",
      "\n"
     ]
    }
   ],
   "source": [
    "analise_descritiva_categorica(df, 'B2')\n",
    "df['B2'] = df['B2'].str.lower()\n",
    "\n",
    "# Tratar valores nulos\n",
    "df['B2'] = df['B2'].fillna('outro')\n",
    "\n",
    "analise_descritiva_categorica(df, 'B2')"
   ]
  },
  {
   "cell_type": "markdown",
   "metadata": {},
   "source": [
    "### Sopro"
   ]
  },
  {
   "cell_type": "code",
   "execution_count": 32,
   "metadata": {},
   "outputs": [
    {
     "name": "stdout",
     "output_type": "stream",
     "text": [
      "Existem 7 tipos de categorias diferentes para a coluna SOPRO.\n",
      "\n",
      "Categorias da coluna SOPRO e a quantidade: \n",
      "\n",
      "SOPRO\n",
      "ausente                   8723\n",
      "Sistólico                 3896\n",
      "sistólico                  888\n",
      "contínuo                    27\n",
      "Contínuo                    17\n",
      "diastólico                   8\n",
      "Sistolico e diastólico       3\n",
      "Name: count, dtype: int64\n",
      "\n",
      "A coluna 'SOPRO' possui 412 valores nulos (2.95%).\n",
      "\n",
      "Existem 4 tipos de categorias diferentes para a coluna SOPRO.\n",
      "\n",
      "Categorias da coluna SOPRO e a quantidade: \n",
      "\n",
      "SOPRO\n",
      "ausente       9135\n",
      "sistólico     4784\n",
      "contínuo        44\n",
      "diastólico      11\n",
      "Name: count, dtype: int64\n",
      "\n",
      "A coluna 'SOPRO' possui 0 valores nulos (0.00%).\n",
      "\n"
     ]
    }
   ],
   "source": [
    "analise_descritiva_categorica(df, 'SOPRO')\n",
    "df['SOPRO'] = df['SOPRO'].str.lower()\n",
    "\n",
    "# O valor \"sistolico e diastólico\" ser endereçado para \"diastólico\" para equilibrar\n",
    "df['SOPRO'] = df['SOPRO'].replace('sistolico e diastólico', 'diastólico')\n",
    "# Para endereçar os campos nulos\n",
    "df['SOPRO'] = df['SOPRO'].fillna('ausente')\n",
    "analise_descritiva_categorica(df, 'SOPRO')"
   ]
  },
  {
   "cell_type": "markdown",
   "metadata": {},
   "source": [
    "### FC\n",
    "Não sei o que é. Procurar"
   ]
  },
  {
   "cell_type": "code",
   "execution_count": 33,
   "metadata": {},
   "outputs": [
    {
     "name": "stdout",
     "output_type": "stream",
     "text": [
      "A coluna 'FC' possui 1157 valores nulos (8.28%).\n",
      "\n",
      "A coluna 'FC' possui 0 valores negativos (0.00%).\n",
      "\n",
      "A coluna 'FC' possui 0 valores zero (0.00%).\n",
      "\n",
      "Média da coluna 'FC': 94.08\n",
      "\n",
      "Mediana da coluna 'FC': 90.00\n",
      "\n",
      "Moda da coluna 'FC': 80.00\n",
      "\n",
      "Desvio padrão da coluna 'FC': 111.02\n",
      "\n",
      "Variância da coluna 'FC': 12325.72\n",
      "\n",
      "Quartis da coluna 'FC': \n",
      "0.25     80.0\n",
      "0.50     90.0\n",
      "0.75    100.0\n",
      "Name: FC, dtype: float64\n",
      "\n"
     ]
    },
    {
     "data": {
      "image/png": "[encoded data removed]",
      "text/plain": [
       "<Figure size 800x600 with 1 Axes>"
      ]
     },
     "metadata": {},
     "output_type": "display_data"
    },
    {
     "data": {
      "image/png": "[encoded data removed]",
      "text/plain": [
       "<Figure size 800x600 with 1 Axes>"
      ]
     },
     "metadata": {},
     "output_type": "display_data"
    }
   ],
   "source": [
    "df['FC'] = pd.to_numeric(df['FC'], errors='coerce')\n",
    "analise_descritiva(df, 'FC')\n",
    "visualizacao(df, 'FC')"
   ]
  },
  {
   "cell_type": "code",
   "execution_count": 34,
   "metadata": {},
   "outputs": [
    {
     "name": "stdout",
     "output_type": "stream",
     "text": [
      "A coluna 'FC' possui 0 valores nulos (0.00%).\n",
      "\n",
      "A coluna 'FC' possui 0 valores negativos (0.00%).\n",
      "\n",
      "A coluna 'FC' possui 0 valores zero (0.00%).\n",
      "\n",
      "Média da coluna 'FC': 92.08\n",
      "\n",
      "Mediana da coluna 'FC': 90.00\n",
      "\n",
      "Moda da coluna 'FC': 90.00\n",
      "\n",
      "Desvio padrão da coluna 'FC': 16.01\n",
      "\n",
      "Variância da coluna 'FC': 256.30\n",
      "\n",
      "Quartis da coluna 'FC': \n",
      "0.25     80.0\n",
      "0.50     90.0\n",
      "0.75    100.0\n",
      "Name: FC, dtype: float64\n",
      "\n"
     ]
    },
    {
     "data": {
      "image/png": "[encoded data removed]",
      "text/plain": [
       "<Figure size 800x600 with 1 Axes>"
      ]
     },
     "metadata": {},
     "output_type": "display_data"
    },
    {
     "data": {
      "image/png": "[encoded data removed]",
      "text/plain": [
       "<Figure size 800x600 with 1 Axes>"
      ]
     },
     "metadata": {},
     "output_type": "display_data"
    }
   ],
   "source": [
    "# Tratamento dos outliers com o valor maior do que 200: Ser igual à moda\n",
    "df.loc[df['FC'] > 200, 'FC'] = df['FC'].median()\n",
    "\n",
    "# Tratamento dos valores nulos\n",
    "df['FC'] = df['FC'].fillna(  df['FC'].median()  )\n",
    "\n",
    "analise_descritiva(df, 'FC')\n",
    "visualizacao(df, 'FC')"
   ]
  },
  {
   "cell_type": "markdown",
   "metadata": {},
   "source": [
    "### HDA1\n",
    "\n",
    "Dar um carinho maior aos valores nulos."
   ]
  },
  {
   "cell_type": "code",
   "execution_count": 35,
   "metadata": {},
   "outputs": [
    {
     "name": "stdout",
     "output_type": "stream",
     "text": [
      "Existem 8 tipos de categorias diferentes para a coluna HDA 1.\n",
      "\n",
      "Categorias da coluna HDA 1 e a quantidade: \n",
      "\n",
      "HDA 1\n",
      "Assintomático      7514\n",
      "Dor precordial      699\n",
      "Dispneia            634\n",
      "Palpitacao          476\n",
      "Cianose             254\n",
      "Desmaio/tontura     227\n",
      "Outro               170\n",
      "Ganho de peso       139\n",
      "Name: count, dtype: int64\n",
      "\n",
      "A coluna 'HDA 1' possui 3861 valores nulos (27.63%).\n",
      "\n",
      "Existem 8 tipos de categorias diferentes para a coluna HDA 1.\n",
      "\n",
      "Categorias da coluna HDA 1 e a quantidade: \n",
      "\n",
      "HDA 1\n",
      "assintomático      7514\n",
      "outro              4031\n",
      "dor precordial      699\n",
      "dispneia            634\n",
      "palpitacao          476\n",
      "cianose             254\n",
      "desmaio/tontura     227\n",
      "ganho de peso       139\n",
      "Name: count, dtype: int64\n",
      "\n",
      "A coluna 'HDA 1' possui 0 valores nulos (0.00%).\n",
      "\n"
     ]
    }
   ],
   "source": [
    "analise_descritiva_categorica(df, 'HDA 1')\n",
    "df['HDA 1'] = df['HDA 1'].str.lower()\n",
    "df['HDA 1'] = df['HDA 1'].fillna( 'outro' )\n",
    "analise_descritiva_categorica(df, 'HDA 1')"
   ]
  },
  {
   "cell_type": "markdown",
   "metadata": {},
   "source": [
    "### HDA2"
   ]
  },
  {
   "cell_type": "code",
   "execution_count": 36,
   "metadata": {},
   "outputs": [
    {
     "name": "stdout",
     "output_type": "stream",
     "text": [
      "Existem 8 tipos de categorias diferentes para a coluna HDA2.\n",
      "\n",
      "Categorias da coluna HDA2 e a quantidade: \n",
      "\n",
      "HDA2\n",
      "Palpitacao         126\n",
      "Dispneia           105\n",
      "Dor precordial      83\n",
      "Cianose             74\n",
      "Desmaio/tontura     64\n",
      "Outro               60\n",
      "Ganho de peso       26\n",
      "Assintomático        1\n",
      "Name: count, dtype: int64\n",
      "\n",
      "A coluna 'HDA2' possui 13435 valores nulos (96.14%).\n",
      "\n",
      "Existem 9 tipos de categorias diferentes para a coluna HDA2.\n",
      "\n",
      "Categorias da coluna HDA2 e a quantidade: \n",
      "\n",
      "HDA2\n",
      "vazio              13435\n",
      "palpitacao           126\n",
      "dispneia             105\n",
      "dor precordial        83\n",
      "cianose               74\n",
      "desmaio/tontura       64\n",
      "outro                 60\n",
      "ganho de peso         26\n",
      "assintomático          1\n",
      "Name: count, dtype: int64\n",
      "\n",
      "A coluna 'HDA2' possui 0 valores nulos (0.00%).\n",
      "\n"
     ]
    }
   ],
   "source": [
    "analise_descritiva_categorica(df, 'HDA2')\n",
    "df['HDA2'] = df['HDA2'].str.lower()\n",
    "df['HDA2'] = df['HDA2'].fillna( 'vazio' )\n",
    "analise_descritiva_categorica(df, 'HDA2')"
   ]
  },
  {
   "cell_type": "markdown",
   "metadata": {},
   "source": [
    "### Motivo 1"
   ]
  },
  {
   "cell_type": "code",
   "execution_count": 37,
   "metadata": {},
   "outputs": [
    {
     "name": "stdout",
     "output_type": "stream",
     "text": [
      "Existem 5 tipos de categorias diferentes para a coluna MOTIVO1.\n",
      "\n",
      "Categorias da coluna MOTIVO1 e a quantidade: \n",
      "\n",
      "MOTIVO1\n",
      "5 - Parecer cardiológico           6492\n",
      "6 - Suspeita de cardiopatia        4798\n",
      "1 - Cardiopatia já estabelecida    1137\n",
      "2 - Check-up                        842\n",
      "7 - Outro                           385\n",
      "Name: count, dtype: int64\n",
      "\n",
      "A coluna 'MOTIVO1' possui 320 valores nulos (2.29%).\n",
      "\n",
      "Existem 5 tipos de categorias diferentes para a coluna MOTIVO1.\n",
      "\n",
      "Categorias da coluna MOTIVO1 e a quantidade: \n",
      "\n",
      "MOTIVO1\n",
      "5 - parecer cardiológico           6492\n",
      "6 - suspeita de cardiopatia        4798\n",
      "1 - cardiopatia já estabelecida    1137\n",
      "2 - check-up                        842\n",
      "7 - outro                           705\n",
      "Name: count, dtype: int64\n",
      "\n",
      "A coluna 'MOTIVO1' possui 0 valores nulos (0.00%).\n",
      "\n"
     ]
    }
   ],
   "source": [
    "analise_descritiva_categorica(df, 'MOTIVO1')\n",
    "df['MOTIVO1'] = df['MOTIVO1'].str.lower()\n",
    "df['MOTIVO1'] = df['MOTIVO1'].fillna( '7 - outro' )\n",
    "analise_descritiva_categorica(df, 'MOTIVO1')"
   ]
  },
  {
   "cell_type": "markdown",
   "metadata": {},
   "source": [
    "### Motivo 2"
   ]
  },
  {
   "cell_type": "code",
   "execution_count": 38,
   "metadata": {},
   "outputs": [
    {
     "name": "stdout",
     "output_type": "stream",
     "text": [
      "Existem 16 tipos de categorias diferentes para a coluna MOTIVO2.\n",
      "\n",
      "Categorias da coluna MOTIVO2 e a quantidade: \n",
      "\n",
      "MOTIVO2\n",
      "5 - Cirurgia                           3429\n",
      "6 - Sopro                              2430\n",
      "1 - Cardiopatia congenica              1018\n",
      "Outro                                   928\n",
      "5 - Atividade física                    924\n",
      "6 - Dor precordial                      540\n",
      "6 - Palpitação/taquicardia/arritmia     466\n",
      "6 - HAS/dislipidemia/obesidade          346\n",
      "6 - Dispnéia                            278\n",
      "6 - Cianose                             133\n",
      "1 - Cardiopatia adquirida               103\n",
      "6 - Cardiopatia na familia               45\n",
      "6 - Cansaço                              14\n",
      "5 - Uso de cisaprida                      5\n",
      "6 - Cianose e dispnéia                    5\n",
      "6 - Alterações de pulso/perfusão          4\n",
      "Name: count, dtype: int64\n",
      "\n",
      "A coluna 'MOTIVO2' possui 3306 valores nulos (23.66%).\n",
      "\n",
      "Existem 16 tipos de categorias diferentes para a coluna MOTIVO2.\n",
      "\n",
      "Categorias da coluna MOTIVO2 e a quantidade: \n",
      "\n",
      "MOTIVO2\n",
      "outro                                  4234\n",
      "5 - cirurgia                           3429\n",
      "6 - sopro                              2430\n",
      "1 - cardiopatia congenica              1018\n",
      "5 - atividade física                    924\n",
      "6 - dor precordial                      540\n",
      "6 - palpitação/taquicardia/arritmia     466\n",
      "6 - has/dislipidemia/obesidade          346\n",
      "6 - dispnéia                            278\n",
      "6 - cianose                             133\n",
      "1 - cardiopatia adquirida               103\n",
      "6 - cardiopatia na familia               45\n",
      "6 - cansaço                              14\n",
      "5 - uso de cisaprida                      5\n",
      "6 - cianose e dispnéia                    5\n",
      "6 - alterações de pulso/perfusão          4\n",
      "Name: count, dtype: int64\n",
      "\n",
      "A coluna 'MOTIVO2' possui 0 valores nulos (0.00%).\n",
      "\n"
     ]
    }
   ],
   "source": [
    "analise_descritiva_categorica(df, 'MOTIVO2')\n",
    "df['MOTIVO2'] = df['MOTIVO2'].str.lower()\n",
    "df['MOTIVO2'] = df['MOTIVO2'].fillna( 'outro' )\n",
    "analise_descritiva_categorica(df, 'MOTIVO2')"
   ]
  },
  {
   "cell_type": "markdown",
   "metadata": {},
   "source": [
    "---\n",
    "## Pré-processamento\n",
    "\n",
    "#### Eliminação manual de atributos\n",
    "No conjunto de dados fornecido, é possível afirmar que existem atributos que não vão contribuir para a tarefa preditiva pois não estão relacionados com a estimativa do diagnóstico, como é o caso do id, data de atendimento, convênio e data de nascimento.\n",
    "\n",
    "A data de nascimento e consulta podem ser eliminadas, pois é mais significativo para a aplicação saber a idade do paciente na época do diagnóstico, informação que é expressa pelo atributo idade.\n",
    "\n",
    "Em uma primeira análise, considera-se que o convênio utilizado não tem relação com o diagnóstico. Porém, pode ser questionado nas próximas versões."
   ]
  },
  {
   "cell_type": "code",
   "execution_count": 39,
   "metadata": {},
   "outputs": [
    {
     "data": {
      "text/plain": [
       "Index(['Id', 'Peso', 'Altura', 'IMC', 'Atendimento', 'DN', 'IDADE', 'Convenio',\n",
       "       'PULSOS', 'PA SISTOLICA', 'PA DIASTOLICA', 'PPA', 'B2', 'SOPRO', 'FC',\n",
       "       'HDA 1', 'HDA2', 'SEXO', 'MOTIVO1', 'MOTIVO2', 'CLASSE'],\n",
       "      dtype='object')"
      ]
     },
     "metadata": {},
     "output_type": "display_data"
    }
   ],
   "source": [
    "# Unir os dois dataframes para não dar problema de tamanho para unir os dois\n",
    "df = pd.merge(df, df_classe, on = 'Id', how = 'left')\n",
    "display(df.columns)"
   ]
  },
  {
   "cell_type": "markdown",
   "metadata": {},
   "source": [
    "#### Transformação de Dados\n",
    "\n",
    "A primeira transformação será a conversão simbólico-numérico para os atributos nominais sem relação de ordem entre os valores do atributo. A inexistência de ordem deve continuar. É o caso dos atributos:\n",
    "- PULSOS\n",
    "- PPA\n",
    "- B2\n",
    "- SOPRO\n",
    "- HDA1\n",
    "- HDA2\n",
    "- SEXO\n",
    "- MOTIVO1\n",
    "- MOTIVO2\n",
    "\n",
    "Segundo a documentação:\n",
    "The TargetEncoder uses the target mean conditioned on the categorical feature for encoding unordered categories, i.e. nominal categories [PAR] [MIC]. This encoding scheme is useful with categorical features with high cardinality, where one-hot encoding would inflate the feature space making it more expensive for a downstream model to process. A classical example of high cardinality categories are location based such as zip code or region."
   ]
  },
  {
   "cell_type": "code",
   "execution_count": 40,
   "metadata": {},
   "outputs": [],
   "source": [
    "# Sexo\n",
    "df['SEXO'] = df['SEXO'].map({'M': 0, 'F': 1})"
   ]
  },
  {
   "cell_type": "markdown",
   "metadata": {},
   "source": [
    "### Transforming the prediction target || https://scikit-learn.org/stable/modules/preprocessing_targets.html#preprocessing-targets"
   ]
  },
  {
   "cell_type": "code",
   "execution_count": 41,
   "metadata": {},
   "outputs": [
    {
     "name": "stdout",
     "output_type": "stream",
     "text": [
      "Existem 3 tipos de categorias diferentes para a coluna CLASSE.\n",
      "\n",
      "Categorias da coluna CLASSE e a quantidade: \n",
      "\n",
      "CLASSE\n",
      "normal      8130\n",
      "anormal     5415\n",
      "sem info     429\n",
      "Name: count, dtype: int64\n",
      "\n",
      "A coluna 'CLASSE' possui 0 valores nulos (0.00%).\n",
      "\n"
     ]
    }
   ],
   "source": [
    "# Conferir a distribuição das classes\n",
    "analise_descritiva_categorica(df, 'CLASSE')\n",
    "\n",
    "# Apagar aqueles que são de classe \"sem info\"\n",
    "df.drop(df[df['CLASSE'] == 'sem info'].index, inplace=True)\n",
    "\n",
    "# Apagar objetos duplicados\n",
    "df.drop_duplicates(subset = df.columns[1:-1], keep = 'first', inplace = True)"
   ]
  },
  {
   "cell_type": "code",
   "execution_count": 42,
   "metadata": {},
   "outputs": [
    {
     "name": "stdout",
     "output_type": "stream",
     "text": [
      "['anormal' 'normal']\n"
     ]
    }
   ],
   "source": [
    "# Encode a classe\n",
    "from sklearn.preprocessing import LabelEncoder\n",
    "le = LabelEncoder()\n",
    "le.fit(df['CLASSE'])\n",
    "\n",
    "print(le.classes_) # anormal and normal\n",
    "\n",
    "df['CLASSE'] = le.transform(df['CLASSE'])"
   ]
  },
  {
   "cell_type": "code",
   "execution_count": 43,
   "metadata": {},
   "outputs": [
    {
     "data": {
      "text/html": [
       "<div>\n",
       "<style scoped>\n",
       "    .dataframe tbody tr th:only-of-type {\n",
       "        vertical-align: middle;\n",
       "    }\n",
       "\n",
       "    .dataframe tbody tr th {\n",
       "        vertical-align: top;\n",
       "    }\n",
       "\n",
       "    .dataframe thead th {\n",
       "        text-align: right;\n",
       "    }\n",
       "</style>\n",
       "<table border=\"1\" class=\"dataframe\">\n",
       "  <thead>\n",
       "    <tr style=\"text-align: right;\">\n",
       "      <th></th>\n",
       "      <th>Id</th>\n",
       "      <th>Peso</th>\n",
       "      <th>Altura</th>\n",
       "      <th>IMC</th>\n",
       "      <th>Atendimento</th>\n",
       "      <th>DN</th>\n",
       "      <th>IDADE</th>\n",
       "      <th>Convenio</th>\n",
       "      <th>PULSOS</th>\n",
       "      <th>PA SISTOLICA</th>\n",
       "      <th>...</th>\n",
       "      <th>PPA</th>\n",
       "      <th>B2</th>\n",
       "      <th>SOPRO</th>\n",
       "      <th>FC</th>\n",
       "      <th>HDA 1</th>\n",
       "      <th>HDA2</th>\n",
       "      <th>SEXO</th>\n",
       "      <th>MOTIVO1</th>\n",
       "      <th>MOTIVO2</th>\n",
       "      <th>CLASSE</th>\n",
       "    </tr>\n",
       "  </thead>\n",
       "  <tbody>\n",
       "    <tr>\n",
       "      <th>0</th>\n",
       "      <td>2</td>\n",
       "      <td>3.5</td>\n",
       "      <td>50.0</td>\n",
       "      <td>14.0</td>\n",
       "      <td>25/05/05</td>\n",
       "      <td>19/05/05</td>\n",
       "      <td>0.02</td>\n",
       "      <td>gs</td>\n",
       "      <td>normais</td>\n",
       "      <td>100.0</td>\n",
       "      <td>...</td>\n",
       "      <td>não calculado</td>\n",
       "      <td>normal</td>\n",
       "      <td>ausente</td>\n",
       "      <td>128.0</td>\n",
       "      <td>dispneia</td>\n",
       "      <td>vazio</td>\n",
       "      <td>0</td>\n",
       "      <td>6 - suspeita de cardiopatia</td>\n",
       "      <td>6 - dispnéia</td>\n",
       "      <td>0</td>\n",
       "    </tr>\n",
       "  </tbody>\n",
       "</table>\n",
       "<p>1 rows × 21 columns</p>\n",
       "</div>"
      ],
      "text/plain": [
       "   Id  Peso  Altura   IMC Atendimento        DN  IDADE Convenio   PULSOS  \\\n",
       "0   2   3.5    50.0  14.0    25/05/05  19/05/05   0.02       gs  normais   \n",
       "\n",
       "   PA SISTOLICA  ...            PPA      B2    SOPRO     FC     HDA 1   HDA2  \\\n",
       "0         100.0  ...  não calculado  normal  ausente  128.0  dispneia  vazio   \n",
       "\n",
       "  SEXO                      MOTIVO1       MOTIVO2 CLASSE  \n",
       "0    0  6 - suspeita de cardiopatia  6 - dispnéia      0  \n",
       "\n",
       "[1 rows x 21 columns]"
      ]
     },
     "metadata": {},
     "output_type": "display_data"
    },
    {
     "data": {
      "text/html": [
       "<div>\n",
       "<style scoped>\n",
       "    .dataframe tbody tr th:only-of-type {\n",
       "        vertical-align: middle;\n",
       "    }\n",
       "\n",
       "    .dataframe tbody tr th {\n",
       "        vertical-align: top;\n",
       "    }\n",
       "\n",
       "    .dataframe thead th {\n",
       "        text-align: right;\n",
       "    }\n",
       "</style>\n",
       "<table border=\"1\" class=\"dataframe\">\n",
       "  <thead>\n",
       "    <tr style=\"text-align: right;\">\n",
       "      <th></th>\n",
       "      <th>Id</th>\n",
       "      <th>Peso</th>\n",
       "      <th>Altura</th>\n",
       "      <th>IMC</th>\n",
       "      <th>Atendimento</th>\n",
       "      <th>DN</th>\n",
       "      <th>IDADE</th>\n",
       "      <th>Convenio</th>\n",
       "      <th>PA SISTOLICA</th>\n",
       "      <th>PA DIASTOLICA</th>\n",
       "      <th>...</th>\n",
       "      <th>SEXO</th>\n",
       "      <th>CLASSE</th>\n",
       "      <th>PULSOS_encoded</th>\n",
       "      <th>PPA_encoded</th>\n",
       "      <th>B2_encoded</th>\n",
       "      <th>SOPRO_encoded</th>\n",
       "      <th>HDA 1_encoded</th>\n",
       "      <th>HDA2_encoded</th>\n",
       "      <th>MOTIVO1_encoded</th>\n",
       "      <th>MOTIVO2_encoded</th>\n",
       "    </tr>\n",
       "  </thead>\n",
       "  <tbody>\n",
       "    <tr>\n",
       "      <th>0</th>\n",
       "      <td>2</td>\n",
       "      <td>3.50</td>\n",
       "      <td>50.0</td>\n",
       "      <td>14.0</td>\n",
       "      <td>25/05/05</td>\n",
       "      <td>19/05/05</td>\n",
       "      <td>0.02</td>\n",
       "      <td>gs</td>\n",
       "      <td>100.0</td>\n",
       "      <td>60.0</td>\n",
       "      <td>...</td>\n",
       "      <td>0</td>\n",
       "      <td>0</td>\n",
       "      <td>0.602325</td>\n",
       "      <td>0.559844</td>\n",
       "      <td>0.622493</td>\n",
       "      <td>0.908749</td>\n",
       "      <td>0.500162</td>\n",
       "      <td>0.597749</td>\n",
       "      <td>0.441703</td>\n",
       "      <td>0.652635</td>\n",
       "    </tr>\n",
       "    <tr>\n",
       "      <th>1</th>\n",
       "      <td>3</td>\n",
       "      <td>16.51</td>\n",
       "      <td>103.4</td>\n",
       "      <td>NaN</td>\n",
       "      <td>12/06/01</td>\n",
       "      <td>08/05/05</td>\n",
       "      <td>4.05</td>\n",
       "      <td>sul america</td>\n",
       "      <td>100.0</td>\n",
       "      <td>60.0</td>\n",
       "      <td>...</td>\n",
       "      <td>0</td>\n",
       "      <td>0</td>\n",
       "      <td>0.602325</td>\n",
       "      <td>0.559844</td>\n",
       "      <td>0.622493</td>\n",
       "      <td>0.039807</td>\n",
       "      <td>0.561319</td>\n",
       "      <td>0.597749</td>\n",
       "      <td>0.740737</td>\n",
       "      <td>0.686772</td>\n",
       "    </tr>\n",
       "    <tr>\n",
       "      <th>2</th>\n",
       "      <td>4</td>\n",
       "      <td>8.10</td>\n",
       "      <td>65.0</td>\n",
       "      <td>19.0</td>\n",
       "      <td>15/10/09</td>\n",
       "      <td>21/04/09</td>\n",
       "      <td>0.50</td>\n",
       "      <td>sem info</td>\n",
       "      <td>100.0</td>\n",
       "      <td>60.0</td>\n",
       "      <td>...</td>\n",
       "      <td>0</td>\n",
       "      <td>0</td>\n",
       "      <td>0.602325</td>\n",
       "      <td>0.559844</td>\n",
       "      <td>0.622493</td>\n",
       "      <td>0.908749</td>\n",
       "      <td>0.561319</td>\n",
       "      <td>0.597749</td>\n",
       "      <td>0.747199</td>\n",
       "      <td>0.686772</td>\n",
       "    </tr>\n",
       "    <tr>\n",
       "      <th>3</th>\n",
       "      <td>6</td>\n",
       "      <td>26.00</td>\n",
       "      <td>112.0</td>\n",
       "      <td>21.0</td>\n",
       "      <td>22/08/03</td>\n",
       "      <td>26/05/99</td>\n",
       "      <td>4.40</td>\n",
       "      <td>gs</td>\n",
       "      <td>100.0</td>\n",
       "      <td>60.0</td>\n",
       "      <td>...</td>\n",
       "      <td>0</td>\n",
       "      <td>0</td>\n",
       "      <td>0.602325</td>\n",
       "      <td>0.658684</td>\n",
       "      <td>0.110236</td>\n",
       "      <td>0.908749</td>\n",
       "      <td>0.561319</td>\n",
       "      <td>0.597749</td>\n",
       "      <td>0.740737</td>\n",
       "      <td>0.686772</td>\n",
       "    </tr>\n",
       "    <tr>\n",
       "      <th>4</th>\n",
       "      <td>7</td>\n",
       "      <td>40.00</td>\n",
       "      <td>151.0</td>\n",
       "      <td>18.0</td>\n",
       "      <td>14/01/08</td>\n",
       "      <td>14/08/95</td>\n",
       "      <td>12.89</td>\n",
       "      <td>same</td>\n",
       "      <td>100.0</td>\n",
       "      <td>60.0</td>\n",
       "      <td>...</td>\n",
       "      <td>0</td>\n",
       "      <td>0</td>\n",
       "      <td>0.602325</td>\n",
       "      <td>0.559844</td>\n",
       "      <td>0.622493</td>\n",
       "      <td>0.908749</td>\n",
       "      <td>0.662270</td>\n",
       "      <td>0.597749</td>\n",
       "      <td>0.747199</td>\n",
       "      <td>0.686772</td>\n",
       "    </tr>\n",
       "  </tbody>\n",
       "</table>\n",
       "<p>5 rows × 21 columns</p>\n",
       "</div>"
      ],
      "text/plain": [
       "   Id   Peso  Altura   IMC Atendimento        DN  IDADE     Convenio  \\\n",
       "0   2   3.50    50.0  14.0    25/05/05  19/05/05   0.02           gs   \n",
       "1   3  16.51   103.4   NaN    12/06/01  08/05/05   4.05  sul america   \n",
       "2   4   8.10    65.0  19.0    15/10/09  21/04/09   0.50     sem info   \n",
       "3   6  26.00   112.0  21.0    22/08/03  26/05/99   4.40           gs   \n",
       "4   7  40.00   151.0  18.0    14/01/08  14/08/95  12.89         same   \n",
       "\n",
       "   PA SISTOLICA  PA DIASTOLICA  ...  SEXO  CLASSE  PULSOS_encoded  \\\n",
       "0         100.0           60.0  ...     0       0        0.602325   \n",
       "1         100.0           60.0  ...     0       0        0.602325   \n",
       "2         100.0           60.0  ...     0       0        0.602325   \n",
       "3         100.0           60.0  ...     0       0        0.602325   \n",
       "4         100.0           60.0  ...     0       0        0.602325   \n",
       "\n",
       "   PPA_encoded  B2_encoded  SOPRO_encoded  HDA 1_encoded  HDA2_encoded  \\\n",
       "0     0.559844    0.622493       0.908749       0.500162      0.597749   \n",
       "1     0.559844    0.622493       0.039807       0.561319      0.597749   \n",
       "2     0.559844    0.622493       0.908749       0.561319      0.597749   \n",
       "3     0.658684    0.110236       0.908749       0.561319      0.597749   \n",
       "4     0.559844    0.622493       0.908749       0.662270      0.597749   \n",
       "\n",
       "   MOTIVO1_encoded  MOTIVO2_encoded  \n",
       "0         0.441703         0.652635  \n",
       "1         0.740737         0.686772  \n",
       "2         0.747199         0.686772  \n",
       "3         0.740737         0.686772  \n",
       "4         0.747199         0.686772  \n",
       "\n",
       "[5 rows x 21 columns]"
      ]
     },
     "metadata": {},
     "output_type": "display_data"
    }
   ],
   "source": [
    "from sklearn.preprocessing import TargetEncoder\n",
    "\n",
    "display(df.head(1))\n",
    "# Colunas nas quais quero aplicar o TargetEncoder\n",
    "cols = ['PULSOS', 'PPA', 'B2', 'SOPRO', 'HDA 1', 'HDA2', 'MOTIVO1', 'MOTIVO2']\n",
    "target = 'CLASSE'\n",
    "\n",
    "for col in cols:  \n",
    "    # Conferir se a coluna existe\n",
    "    if col not in df.columns:\n",
    "        print(f'A coluna {col} não existe.')\n",
    "        continue\n",
    "        \n",
    "    encoder = TargetEncoder()\n",
    "    encoder.fit(X = df[[col]], y = df[target])\n",
    "    df[col + '_encoded'] = encoder.transform(df[[col]]) \n",
    "    \n",
    "    df.drop(col, axis = 1, inplace=True)\n",
    "\n",
    "display(df.head())\n"
   ]
  },
  {
   "cell_type": "code",
   "execution_count": 44,
   "metadata": {},
   "outputs": [],
   "source": [
    "# Dropando colunas\n",
    "df = df.drop(['Id', 'Atendimento', 'DN', 'Convenio', 'IMC'], axis=1)"
   ]
  },
  {
   "cell_type": "code",
   "execution_count": 45,
   "metadata": {},
   "outputs": [
    {
     "data": {
      "text/html": [
       "<div>\n",
       "<style scoped>\n",
       "    .dataframe tbody tr th:only-of-type {\n",
       "        vertical-align: middle;\n",
       "    }\n",
       "\n",
       "    .dataframe tbody tr th {\n",
       "        vertical-align: top;\n",
       "    }\n",
       "\n",
       "    .dataframe thead th {\n",
       "        text-align: right;\n",
       "    }\n",
       "</style>\n",
       "<table border=\"1\" class=\"dataframe\">\n",
       "  <thead>\n",
       "    <tr style=\"text-align: right;\">\n",
       "      <th></th>\n",
       "      <th>Peso</th>\n",
       "      <th>Altura</th>\n",
       "      <th>IDADE</th>\n",
       "      <th>PA SISTOLICA</th>\n",
       "      <th>PA DIASTOLICA</th>\n",
       "      <th>FC</th>\n",
       "      <th>SEXO</th>\n",
       "      <th>CLASSE</th>\n",
       "      <th>PULSOS_encoded</th>\n",
       "      <th>PPA_encoded</th>\n",
       "      <th>B2_encoded</th>\n",
       "      <th>SOPRO_encoded</th>\n",
       "      <th>HDA 1_encoded</th>\n",
       "      <th>HDA2_encoded</th>\n",
       "      <th>MOTIVO1_encoded</th>\n",
       "      <th>MOTIVO2_encoded</th>\n",
       "    </tr>\n",
       "  </thead>\n",
       "  <tbody>\n",
       "    <tr>\n",
       "      <th>0</th>\n",
       "      <td>3.50</td>\n",
       "      <td>50.0</td>\n",
       "      <td>0.02</td>\n",
       "      <td>100.0</td>\n",
       "      <td>60.0</td>\n",
       "      <td>128.0</td>\n",
       "      <td>0</td>\n",
       "      <td>0</td>\n",
       "      <td>0.602325</td>\n",
       "      <td>0.559844</td>\n",
       "      <td>0.622493</td>\n",
       "      <td>0.908749</td>\n",
       "      <td>0.500162</td>\n",
       "      <td>0.597749</td>\n",
       "      <td>0.441703</td>\n",
       "      <td>0.652635</td>\n",
       "    </tr>\n",
       "    <tr>\n",
       "      <th>1</th>\n",
       "      <td>16.51</td>\n",
       "      <td>103.4</td>\n",
       "      <td>4.05</td>\n",
       "      <td>100.0</td>\n",
       "      <td>60.0</td>\n",
       "      <td>88.0</td>\n",
       "      <td>0</td>\n",
       "      <td>0</td>\n",
       "      <td>0.602325</td>\n",
       "      <td>0.559844</td>\n",
       "      <td>0.622493</td>\n",
       "      <td>0.039807</td>\n",
       "      <td>0.561319</td>\n",
       "      <td>0.597749</td>\n",
       "      <td>0.740737</td>\n",
       "      <td>0.686772</td>\n",
       "    </tr>\n",
       "    <tr>\n",
       "      <th>2</th>\n",
       "      <td>8.10</td>\n",
       "      <td>65.0</td>\n",
       "      <td>0.50</td>\n",
       "      <td>100.0</td>\n",
       "      <td>60.0</td>\n",
       "      <td>92.0</td>\n",
       "      <td>0</td>\n",
       "      <td>0</td>\n",
       "      <td>0.602325</td>\n",
       "      <td>0.559844</td>\n",
       "      <td>0.622493</td>\n",
       "      <td>0.908749</td>\n",
       "      <td>0.561319</td>\n",
       "      <td>0.597749</td>\n",
       "      <td>0.747199</td>\n",
       "      <td>0.686772</td>\n",
       "    </tr>\n",
       "    <tr>\n",
       "      <th>3</th>\n",
       "      <td>26.00</td>\n",
       "      <td>112.0</td>\n",
       "      <td>4.40</td>\n",
       "      <td>100.0</td>\n",
       "      <td>60.0</td>\n",
       "      <td>100.0</td>\n",
       "      <td>0</td>\n",
       "      <td>0</td>\n",
       "      <td>0.602325</td>\n",
       "      <td>0.658684</td>\n",
       "      <td>0.110236</td>\n",
       "      <td>0.908749</td>\n",
       "      <td>0.561319</td>\n",
       "      <td>0.597749</td>\n",
       "      <td>0.740737</td>\n",
       "      <td>0.686772</td>\n",
       "    </tr>\n",
       "    <tr>\n",
       "      <th>4</th>\n",
       "      <td>40.00</td>\n",
       "      <td>151.0</td>\n",
       "      <td>12.89</td>\n",
       "      <td>100.0</td>\n",
       "      <td>60.0</td>\n",
       "      <td>96.0</td>\n",
       "      <td>0</td>\n",
       "      <td>0</td>\n",
       "      <td>0.602325</td>\n",
       "      <td>0.559844</td>\n",
       "      <td>0.622493</td>\n",
       "      <td>0.908749</td>\n",
       "      <td>0.662270</td>\n",
       "      <td>0.597749</td>\n",
       "      <td>0.747199</td>\n",
       "      <td>0.686772</td>\n",
       "    </tr>\n",
       "  </tbody>\n",
       "</table>\n",
       "</div>"
      ],
      "text/plain": [
       "    Peso  Altura  IDADE  PA SISTOLICA  PA DIASTOLICA     FC  SEXO  CLASSE  \\\n",
       "0   3.50    50.0   0.02         100.0           60.0  128.0     0       0   \n",
       "1  16.51   103.4   4.05         100.0           60.0   88.0     0       0   \n",
       "2   8.10    65.0   0.50         100.0           60.0   92.0     0       0   \n",
       "3  26.00   112.0   4.40         100.0           60.0  100.0     0       0   \n",
       "4  40.00   151.0  12.89         100.0           60.0   96.0     0       0   \n",
       "\n",
       "   PULSOS_encoded  PPA_encoded  B2_encoded  SOPRO_encoded  HDA 1_encoded  \\\n",
       "0        0.602325     0.559844    0.622493       0.908749       0.500162   \n",
       "1        0.602325     0.559844    0.622493       0.039807       0.561319   \n",
       "2        0.602325     0.559844    0.622493       0.908749       0.561319   \n",
       "3        0.602325     0.658684    0.110236       0.908749       0.561319   \n",
       "4        0.602325     0.559844    0.622493       0.908749       0.662270   \n",
       "\n",
       "   HDA2_encoded  MOTIVO1_encoded  MOTIVO2_encoded  \n",
       "0      0.597749         0.441703         0.652635  \n",
       "1      0.597749         0.740737         0.686772  \n",
       "2      0.597749         0.747199         0.686772  \n",
       "3      0.597749         0.740737         0.686772  \n",
       "4      0.597749         0.747199         0.686772  "
      ]
     },
     "metadata": {},
     "output_type": "display_data"
    },
    {
     "name": "stdout",
     "output_type": "stream",
     "text": [
      "Data frame antes StandardScaler: \n",
      " None\n"
     ]
    }
   ],
   "source": [
    "print('Data frame antes StandardScaler: \\n', display(df.head(5)))"
   ]
  },
  {
   "cell_type": "markdown",
   "metadata": {},
   "source": [
    "## Normalização dos dados\n",
    "\n",
    "Tem que normalizar os dados"
   ]
  },
  {
   "cell_type": "code",
   "execution_count": 46,
   "metadata": {},
   "outputs": [
    {
     "name": "stdout",
     "output_type": "stream",
     "text": [
      "['Peso', 'Altura', 'IDADE', 'PA SISTOLICA', 'PA DIASTOLICA', 'FC', 'SEXO', 'PULSOS_encoded', 'PPA_encoded', 'B2_encoded', 'SOPRO_encoded', 'HDA 1_encoded', 'HDA2_encoded', 'MOTIVO1_encoded', 'MOTIVO2_encoded']\n"
     ]
    }
   ],
   "source": [
    "from sklearn.preprocessing import StandardScaler\n",
    "\n",
    "colunas_normalizar = [col for col in df.columns if col != 'CLASSE']\n",
    "print(colunas_normalizar)\n",
    "scaler = StandardScaler()\n",
    "scaler.fit(df[colunas_normalizar])\n",
    "df[colunas_normalizar] = scaler.transform(df[colunas_normalizar])"
   ]
  },
  {
   "cell_type": "code",
   "execution_count": 47,
   "metadata": {},
   "outputs": [
    {
     "data": {
      "text/html": [
       "<div>\n",
       "<style scoped>\n",
       "    .dataframe tbody tr th:only-of-type {\n",
       "        vertical-align: middle;\n",
       "    }\n",
       "\n",
       "    .dataframe tbody tr th {\n",
       "        vertical-align: top;\n",
       "    }\n",
       "\n",
       "    .dataframe thead th {\n",
       "        text-align: right;\n",
       "    }\n",
       "</style>\n",
       "<table border=\"1\" class=\"dataframe\">\n",
       "  <thead>\n",
       "    <tr style=\"text-align: right;\">\n",
       "      <th></th>\n",
       "      <th>Peso</th>\n",
       "      <th>Altura</th>\n",
       "      <th>IDADE</th>\n",
       "      <th>PA SISTOLICA</th>\n",
       "      <th>PA DIASTOLICA</th>\n",
       "      <th>FC</th>\n",
       "      <th>SEXO</th>\n",
       "      <th>CLASSE</th>\n",
       "      <th>PULSOS_encoded</th>\n",
       "      <th>PPA_encoded</th>\n",
       "      <th>B2_encoded</th>\n",
       "      <th>SOPRO_encoded</th>\n",
       "      <th>HDA 1_encoded</th>\n",
       "      <th>HDA2_encoded</th>\n",
       "      <th>MOTIVO1_encoded</th>\n",
       "      <th>MOTIVO2_encoded</th>\n",
       "    </tr>\n",
       "  </thead>\n",
       "  <tbody>\n",
       "    <tr>\n",
       "      <th>0</th>\n",
       "      <td>-1.267126</td>\n",
       "      <td>-1.843689</td>\n",
       "      <td>-1.295541</td>\n",
       "      <td>-0.090333</td>\n",
       "      <td>-0.211746</td>\n",
       "      <td>2.210180</td>\n",
       "      <td>-0.877011</td>\n",
       "      <td>0</td>\n",
       "      <td>0.106729</td>\n",
       "      <td>-0.745939</td>\n",
       "      <td>0.215439</td>\n",
       "      <td>0.747370</td>\n",
       "      <td>-1.619996</td>\n",
       "      <td>0.000623</td>\n",
       "      <td>-0.942304</td>\n",
       "      <td>0.275211</td>\n",
       "    </tr>\n",
       "    <tr>\n",
       "      <th>1</th>\n",
       "      <td>-0.488596</td>\n",
       "      <td>-0.238855</td>\n",
       "      <td>-0.475647</td>\n",
       "      <td>-0.090333</td>\n",
       "      <td>-0.211746</td>\n",
       "      <td>-0.248640</td>\n",
       "      <td>-0.877011</td>\n",
       "      <td>0</td>\n",
       "      <td>0.106729</td>\n",
       "      <td>-0.745939</td>\n",
       "      <td>0.215439</td>\n",
       "      <td>-1.340824</td>\n",
       "      <td>-0.604554</td>\n",
       "      <td>0.000623</td>\n",
       "      <td>0.863439</td>\n",
       "      <td>0.446341</td>\n",
       "    </tr>\n",
       "    <tr>\n",
       "      <th>2</th>\n",
       "      <td>-0.991858</td>\n",
       "      <td>-1.392893</td>\n",
       "      <td>-1.197886</td>\n",
       "      <td>-0.090333</td>\n",
       "      <td>-0.211746</td>\n",
       "      <td>-0.002758</td>\n",
       "      <td>-0.877011</td>\n",
       "      <td>0</td>\n",
       "      <td>0.106729</td>\n",
       "      <td>-0.745939</td>\n",
       "      <td>0.215439</td>\n",
       "      <td>0.747370</td>\n",
       "      <td>-0.604554</td>\n",
       "      <td>0.000623</td>\n",
       "      <td>0.902461</td>\n",
       "      <td>0.446341</td>\n",
       "    </tr>\n",
       "    <tr>\n",
       "      <th>3</th>\n",
       "      <td>0.079295</td>\n",
       "      <td>0.019601</td>\n",
       "      <td>-0.404440</td>\n",
       "      <td>-0.090333</td>\n",
       "      <td>-0.211746</td>\n",
       "      <td>0.489006</td>\n",
       "      <td>-0.877011</td>\n",
       "      <td>0</td>\n",
       "      <td>0.106729</td>\n",
       "      <td>1.199902</td>\n",
       "      <td>-4.248623</td>\n",
       "      <td>0.747370</td>\n",
       "      <td>-0.604554</td>\n",
       "      <td>0.000623</td>\n",
       "      <td>0.863439</td>\n",
       "      <td>0.446341</td>\n",
       "    </tr>\n",
       "    <tr>\n",
       "      <th>4</th>\n",
       "      <td>0.917068</td>\n",
       "      <td>1.191670</td>\n",
       "      <td>1.322831</td>\n",
       "      <td>-0.090333</td>\n",
       "      <td>-0.211746</td>\n",
       "      <td>0.243124</td>\n",
       "      <td>-0.877011</td>\n",
       "      <td>0</td>\n",
       "      <td>0.106729</td>\n",
       "      <td>-0.745939</td>\n",
       "      <td>0.215439</td>\n",
       "      <td>0.747370</td>\n",
       "      <td>1.071619</td>\n",
       "      <td>0.000623</td>\n",
       "      <td>0.902461</td>\n",
       "      <td>0.446341</td>\n",
       "    </tr>\n",
       "  </tbody>\n",
       "</table>\n",
       "</div>"
      ],
      "text/plain": [
       "       Peso    Altura     IDADE  PA SISTOLICA  PA DIASTOLICA        FC  \\\n",
       "0 -1.267126 -1.843689 -1.295541     -0.090333      -0.211746  2.210180   \n",
       "1 -0.488596 -0.238855 -0.475647     -0.090333      -0.211746 -0.248640   \n",
       "2 -0.991858 -1.392893 -1.197886     -0.090333      -0.211746 -0.002758   \n",
       "3  0.079295  0.019601 -0.404440     -0.090333      -0.211746  0.489006   \n",
       "4  0.917068  1.191670  1.322831     -0.090333      -0.211746  0.243124   \n",
       "\n",
       "       SEXO  CLASSE  PULSOS_encoded  PPA_encoded  B2_encoded  SOPRO_encoded  \\\n",
       "0 -0.877011       0        0.106729    -0.745939    0.215439       0.747370   \n",
       "1 -0.877011       0        0.106729    -0.745939    0.215439      -1.340824   \n",
       "2 -0.877011       0        0.106729    -0.745939    0.215439       0.747370   \n",
       "3 -0.877011       0        0.106729     1.199902   -4.248623       0.747370   \n",
       "4 -0.877011       0        0.106729    -0.745939    0.215439       0.747370   \n",
       "\n",
       "   HDA 1_encoded  HDA2_encoded  MOTIVO1_encoded  MOTIVO2_encoded  \n",
       "0      -1.619996      0.000623        -0.942304         0.275211  \n",
       "1      -0.604554      0.000623         0.863439         0.446341  \n",
       "2      -0.604554      0.000623         0.902461         0.446341  \n",
       "3      -0.604554      0.000623         0.863439         0.446341  \n",
       "4       1.071619      0.000623         0.902461         0.446341  "
      ]
     },
     "metadata": {},
     "output_type": "display_data"
    },
    {
     "name": "stdout",
     "output_type": "stream",
     "text": [
      "Data frame após StandardScaler: \n",
      " None\n"
     ]
    }
   ],
   "source": [
    "print('Data frame após StandardScaler: \\n', display(df.head(5)))"
   ]
  },
  {
   "cell_type": "markdown",
   "metadata": {},
   "source": [
    "---\n",
    "### Experimento\n",
    "\n",
    "Nesta seção, o experimento deve ser conduzido, utilizando os protocolos experimentais padrões e testando diferentes modelos."
   ]
  },
  {
   "cell_type": "code",
   "execution_count": 48,
   "metadata": {},
   "outputs": [],
   "source": [
    "Y = df['CLASSE']\n",
    "# Dropar a classe (se não, treina com a classe)\n",
    "df = df.drop(['CLASSE'], axis=1)"
   ]
  },
  {
   "cell_type": "code",
   "execution_count": 49,
   "metadata": {},
   "outputs": [],
   "source": [
    "# Converte o DataFrame selecionado em uma matriz NumPy\n",
    "# que é o formato esperado pela maioria dos algoritmos de machine learning\n",
    "\n",
    "Y = Y.to_numpy()\n",
    "df = df.to_numpy()"
   ]
  },
  {
   "cell_type": "code",
   "execution_count": 88,
   "metadata": {},
   "outputs": [
    {
     "name": "stdout",
     "output_type": "stream",
     "text": [
      "Tamanho do conjunto de treino: 7995\n",
      "Tamanho do conjunto de validação: 1333\n",
      "Tamanho do conjunto de teste: 3999\n"
     ]
    }
   ],
   "source": [
    "from sklearn.model_selection import train_test_split\n",
    "\n",
    "# X_train, X_test, y_train, y_test = train_test_split(df, Y, test_size = 0.2, random_state = 42, shuffle = True)\n",
    "\n",
    "# Treino + Validação (70%) e Teste (30%)\n",
    "X_train_val, X_test, y_train_val, y_test = train_test_split(\n",
    "    df, Y, test_size=0.3, random_state=42  # test_size = 30%\n",
    ")\n",
    "\n",
    "# Treino (60%) e Validação (10%)\n",
    "X_train, X_val, y_train, y_val = train_test_split(\n",
    "    X_train_val, y_train_val, test_size=1/7, random_state=42  # test_size = 10%/70% ≈ 1/7\n",
    ")\n",
    "\n",
    "print(\"Tamanho do conjunto de treino:\", len(X_train))\n",
    "print(\"Tamanho do conjunto de validação:\", len(X_val))\n",
    "print(\"Tamanho do conjunto de teste:\", len(X_test))"
   ]
  },
  {
   "cell_type": "markdown",
   "metadata": {},
   "source": [
    "#### Dicionário de modelos\n",
    "Para um código modular e bem organizado, de tal forma que fique fácil adicionar algoritmos e parâmetros. Utilizei IA para me organizar com o código, como criar o dicionário com os parâmetros.\n"
   ]
  },
  {
   "cell_type": "markdown",
   "metadata": {},
   "source": [
    "Model Evaluation: metrics\n",
    "- Accuracy\n",
    "- Precision\n",
    "- Recall\n",
    "- F1-score\n",
    "- Confusion matrix (O que significa)\n",
    "- Classification_report\n",
    "\n",
    "## Métricas avaliadas\n",
    "Utilizar a função `classification_report` as principais métricas (precisão, recall, f1-score e support).\n",
    "\n",
    "Essa função também inclui:\n",
    "\n",
    "- macro average (A média sem pesos para cada métrica. Sem pesos significa que não leva em consideração a quantidade de ocorrências de determinada classe no dataset (support))\n",
    "- weighted average (média ponderada por rótulo, levando em consideração o número de instâncias true de cada classe)\n",
    "  \n",
    "#### Precision\n",
    "\n",
    "Cálculo: `tp / (tp + fp)`\n",
    "\n",
    "De todos os que foram classificados como doentes (corretamente ou não), a precisão é a proporção daqueles que foram corretamente classificados como doentes.\n",
    "\n",
    "#### Recall Score\n",
    "\n",
    "Cálculo: `tp / (tp + fn)`\n",
    "\n",
    "- Para a classe, proporção de quais foram corretamente classificados\n",
    "\n",
    "Ou seja, a capacidade do classificador de encontrar as instâncias positivas (classificar como sendo positivo).\n",
    "\n",
    "Na informação retornada pelo report, a informação de recall é para ambas as classes (0 e 1).\n",
    "\n",
    "Para classificação binária:\n",
    "\n",
    "- Sensitivity: Recall para a classe positiva\n",
    "  \n",
    "- Specificity: Recall para a classe negativa\n",
    "\n",
    "#### F1-score\n",
    "\n",
    "Cálculo: `2 * (Precision * Recall) / (Precision + Recall)`\n",
    "\n",
    "É uma métrica que combina o precision e o recall.\n",
    "\n",
    "#### Support\n",
    "\n",
    "Quantidade de ocorrências de determinada classe no dataset, ou seja, quandos samples para cada classe.\n",
    "\n",
    "#### Accuracy\n",
    "\n",
    "Cálculo: (tp + tn) / (qtd_total_samples)\n",
    "\n",
    "Proporção de instâncias que o modelo classificou corretamente.\n",
    "  \n",
    "#### Confusion Matrix\n",
    "\n",
    "Dada uma matriz de confusão C, C[i, j] significa o número de elementos da classificação i \n",
    "classificados como elementos da classe j.\n",
    "\n",
    "C[0, 0]: True negative (Não tem a doença e foi classificado corretamente)\n",
    "\n",
    "C[1, 0]: False negative (Tem a doença, mas foi classificado como saudável)\n",
    "\n",
    "C[1, 1]: True positive (Tem a doença e foi classificado corretamente)\n",
    "\n",
    "C[0, 1]: False positive (Não tem a doença, mas foi classificado como doente)\n"
   ]
  },
  {
   "cell_type": "code",
   "execution_count": 98,
   "metadata": {},
   "outputs": [
    {
     "name": "stdout",
     "output_type": "stream",
     "text": [
      "\n",
      "=========        Logistic Regression        =========\n",
      "\n",
      "Melhores hiperparâmetros: {'C': 0.1, 'solver': 'liblinear'}\n",
      "Desempenho no conjunto de validação: 0.9354838709677419\n",
      "Desempenho no conjunto de teste: 0.9292323080770193\n",
      "\n",
      "Avaliando: LogisticRegression(C=0.1, solver='liblinear')\n",
      "\n",
      "Matriz de Confusão\n",
      "\n",
      "               Cl. saudável  Cl. doente\n",
      "Pac. saudável          1424         215\n",
      "Pac. doente              66        2294\n",
      "\n",
      "Report\n",
      "\n",
      "              precision    recall  f1-score   support\n",
      "\n",
      "           0       0.96      0.87      0.91      1639\n",
      "           1       0.91      0.97      0.94      2360\n",
      "\n",
      "    accuracy                           0.93      3999\n",
      "   macro avg       0.94      0.92      0.93      3999\n",
      "weighted avg       0.93      0.93      0.93      3999\n",
      "\n",
      "\n",
      "Validação cruzada\n",
      "\n",
      "Pontuações da validação cruzada: [0.93683552 0.93871169 0.92745466 0.92557849 0.92620388]\n",
      "Média da pontuação da validação cruzada: 0.9309568480300188\n"
     ]
    }
   ],
   "source": [
    "from sklearn.linear_model import LogisticRegression\n",
    "from sklearn.tree import DecisionTreeClassifier\n",
    "from sklearn.ensemble import RandomForestClassifier\n",
    "from sklearn.neighbors import KNeighborsClassifier\n",
    "from sklearn.svm import SVC\n",
    "from sklearn.neural_network import MLPClassifier\n",
    "from sklearn.linear_model import LogisticRegression\n",
    "from sklearn.tree import DecisionTreeClassifier\n",
    "from sklearn.ensemble import RandomForestClassifier\n",
    "from sklearn.svm import SVC\n",
    "from sklearn.neighbors import KNeighborsClassifier\n",
    "from sklearn.model_selection import GridSearchCV, cross_val_score\n",
    "from sklearn.metrics import accuracy_score, classification_report, precision_score, recall_score, f1_score, confusion_matrix\n",
    "import pandas as pd\n",
    "\n",
    "modelos = {\n",
    "    \"Logistic Regression\": {\n",
    "        \"estimador\": LogisticRegression(),\n",
    "        \"param_grid\": {\n",
    "            \"C\": [0.1, 1, 10],\n",
    "            \"solver\": [\"liblinear\", \"lbfgs\"]\n",
    "        }\n",
    "    }\n",
    "}\n",
    "\n",
    "def train_and_evaluate(estimador, param_grid, X_train, y_train, X_test, y_test):\n",
    "    '''\n",
    "    Hyperparameter tuning: Adjust hiperparameters\n",
    "    - GridSearchCV\n",
    "    '''\n",
    "    grid_search = GridSearchCV(\n",
    "        estimator = estimador,\n",
    "        param_grid = param_grid,\n",
    "        cv = 5,               \n",
    "        scoring = 'accuracy'  \n",
    "    )\n",
    "    \n",
    "    grid_search.fit(X_train, y_train)\n",
    "\n",
    "    print(\"Melhores hiperparâmetros:\", grid_search.best_params_)\n",
    "\n",
    "    melhor_modelo = grid_search.best_estimator_\n",
    "    \n",
    "    # Avaliação no conjunto de teste\n",
    "    y_pred = melhor_modelo.predict(X_test)\n",
    "\n",
    "    # Métricas extras que quero avaliar (além do report)\n",
    "    conf_matrix = confusion_matrix(y_test, y_pred)\n",
    "\n",
    "    metricas_extras = { \n",
    "        \"confusion_matrix\": conf_matrix\n",
    "    }\n",
    "\n",
    "    report = classification_report(y_test, y_pred)\n",
    "\n",
    "    # Avalia o desempenho no conjunto de validação\n",
    "    score = model.score(X_val, y_val)\n",
    "    print(\"Desempenho no conjunto de validação:\", score)\n",
    "    \n",
    "    # Avalia o desempenho final no conjunto de teste\n",
    "    score = model.score(X_test, y_test)\n",
    "    print(\"Desempenho no conjunto de teste:\", score)\n",
    "    \n",
    "    return melhor_modelo, metricas_extras, report\n",
    "    \n",
    "# 2. Treinar e avaliar cada modelo\n",
    "for nome_modelo, config in modelos.items():\n",
    "    print(f\"\\n=========        {nome_modelo}        =========\\n\")\n",
    "    \n",
    "    modelo, metricas, report = train_and_evaluate(\n",
    "        config[\"estimador\"], config[\"param_grid\"], X_train, y_train, X_test, y_test\n",
    "    )\n",
    "\n",
    "    print(f'\\nAvaliando: {modelo}\\n')\n",
    "\n",
    "    # Formatando a matriz de confusão\n",
    "    df_matriz_confusao = pd.DataFrame(metricas['confusion_matrix'], \n",
    "                         index=['Pac. saudável', 'Pac. doente'], \n",
    "                         columns=['Cl. saudável', 'Cl. doente'])\n",
    "    \n",
    "    print(\"Matriz de Confusão\\n\")\n",
    "    print(df_matriz_confusao)\n",
    "\n",
    "    print(\"\\nReport\\n\")\n",
    "    print(report)\n",
    "\n",
    "    print(\"\\nValidação cruzada\\n\")\n",
    "    scores = cross_val_score(config[\"estimador\"], X_train, y_train, cv = 5)  # 5-fold cross-validation\n",
    "\n",
    "    print(\"Pontuações da validação cruzada:\", scores)\n",
    "    print(\"Média da pontuação da validação cruzada:\", scores.mean())\n",
    "\n"
   ]
  },
  {
   "cell_type": "markdown",
   "metadata": {},
   "source": [
    "### (Tentando!) Evitar o Overfitting\n",
    "\n",
    "Para evitar o Overfitting, os dados foram divididos em três partições: treino, teste e validação, pois foi considerado que o número de samples é suficiente para essa divisão.\n",
    "Além disso, foi testado o cross-validation.\n",
    "\n",
    "Testar:\n",
    "- Cross validation stratified por meio do cross_val_score\n",
    "- Holdout valid set\n",
    "\n",
    "De acordo com esse site: https://scikit-learn.org/stable/auto_examples/model_selection/plot_underfitting_overfitting.html#sphx-glr-auto-examples-model-selection-plot-underfitting-overfitting-py"
   ]
  },
  {
   "cell_type": "markdown",
   "metadata": {},
   "source": [
    "---\n",
    "### Análise dos Resultados\n",
    "\n",
    "Nesta seção, os resultados devem ser exibidos através de tabelas e gráficos, comparados e profundamente analisados."
   ]
  },
  {
   "cell_type": "markdown",
   "metadata": {},
   "source": [
    "### Final Model Training\n",
    "Retrain the chosen model on the entire dataset (excluding the test set) to leverage all available data for a more robust model."
   ]
  }
 ],
 "metadata": {
  "kernelspec": {
   "display_name": "Python 3 (ipykernel)",
   "language": "python",
   "name": "python3"
  },
  "language_info": {
   "codemirror_mode": {
    "name": "ipython",
    "version": 3
   },
   "file_extension": ".py",
   "mimetype": "text/x-python",
   "name": "python",
   "nbconvert_exporter": "python",
   "pygments_lexer": "ipython3",
   "version": "3.11.2"
  }
 },
 "nbformat": 4,
 "nbformat_minor": 4
}
